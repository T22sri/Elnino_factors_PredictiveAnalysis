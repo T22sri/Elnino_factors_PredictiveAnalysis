{
 "cells": [
  {
   "cell_type": "markdown",
   "metadata": {
    "id": "oyMOA1a4XYDF"
   },
   "source": [
    "Elnino - Regression analysis"
   ]
  },
  {
   "cell_type": "code",
   "execution_count": 1,
   "metadata": {
    "colab": {
     "base_uri": "https://localhost:8080/"
    },
    "executionInfo": {
     "elapsed": 230205,
     "status": "ok",
     "timestamp": 1669751288909,
     "user": {
      "displayName": "Tejasri Pavuluri",
      "userId": "17831795534061040396"
     },
     "user_tz": 300
    },
    "id": "W9DMeqSR8YkR",
    "outputId": "df3a7171-1f32-4891-ad26-7a98ec699dea"
   },
   "outputs": [
    {
     "name": "stdout",
     "output_type": "stream",
     "text": [
      "Mounted at /content/gdrive\n"
     ]
    }
   ],
   "source": [
    "from google.colab import drive\n",
    "drive.mount('/content/gdrive')"
   ]
  },
  {
   "cell_type": "code",
   "execution_count": 2,
   "metadata": {
    "executionInfo": {
     "elapsed": 1096,
     "status": "ok",
     "timestamp": 1669751293253,
     "user": {
      "displayName": "Tejasri Pavuluri",
      "userId": "17831795534061040396"
     },
     "user_tz": 300
    },
    "id": "UCrZje6o8yjw"
   },
   "outputs": [],
   "source": [
    "# import libraries\n",
    "import pandas as pd\n",
    "import numpy as np\n",
    "import matplotlib.pyplot as plt\n",
    "import seaborn as sns\n",
    "from matplotlib import pyplot"
   ]
  },
  {
   "cell_type": "code",
   "execution_count": 3,
   "metadata": {
    "colab": {
     "base_uri": "https://localhost:8080/",
     "height": 468
    },
    "executionInfo": {
     "elapsed": 15031,
     "status": "ok",
     "timestamp": 1669751319360,
     "user": {
      "displayName": "Tejasri Pavuluri",
      "userId": "17831795534061040396"
     },
     "user_tz": 300
    },
    "id": "NANO6i3s82y1",
    "outputId": "e5f88f03-0d4f-43da-f494-0a7fa2bfe0d4"
   },
   "outputs": [
    {
     "data": {
      "text/html": [
       "\n",
       "  <div id=\"df-682fb579-d214-4c23-8c28-7b5f8b8399b2\">\n",
       "    <div class=\"colab-df-container\">\n",
       "      <div>\n",
       "<style scoped>\n",
       "    .dataframe tbody tr th:only-of-type {\n",
       "        vertical-align: middle;\n",
       "    }\n",
       "\n",
       "    .dataframe tbody tr th {\n",
       "        vertical-align: top;\n",
       "    }\n",
       "\n",
       "    .dataframe thead th {\n",
       "        text-align: right;\n",
       "    }\n",
       "</style>\n",
       "<table border=\"1\" class=\"dataframe\">\n",
       "  <thead>\n",
       "    <tr style=\"text-align: right;\">\n",
       "      <th></th>\n",
       "      <th>year_month_day</th>\n",
       "      <th>date</th>\n",
       "      <th>latitude</th>\n",
       "      <th>longitude</th>\n",
       "      <th>zon_winds</th>\n",
       "      <th>mer_winds</th>\n",
       "      <th>humidity</th>\n",
       "      <th>air_temp_</th>\n",
       "      <th>s_s_temp_</th>\n",
       "      <th>air_temp_F</th>\n",
       "      <th>zon_winds_mph</th>\n",
       "      <th>mer_winds_mph</th>\n",
       "    </tr>\n",
       "  </thead>\n",
       "  <tbody>\n",
       "    <tr>\n",
       "      <th>0</th>\n",
       "      <td>1980-03-07</td>\n",
       "      <td>800307</td>\n",
       "      <td>-0.02</td>\n",
       "      <td>-109.46</td>\n",
       "      <td>-6.8</td>\n",
       "      <td>0.7</td>\n",
       "      <td>NaN</td>\n",
       "      <td>26.14</td>\n",
       "      <td>26.24</td>\n",
       "      <td>79.052</td>\n",
       "      <td>-15.2116</td>\n",
       "      <td>1.5659</td>\n",
       "    </tr>\n",
       "    <tr>\n",
       "      <th>1</th>\n",
       "      <td>1980-03-08</td>\n",
       "      <td>800308</td>\n",
       "      <td>-0.02</td>\n",
       "      <td>-109.46</td>\n",
       "      <td>-4.9</td>\n",
       "      <td>1.1</td>\n",
       "      <td>NaN</td>\n",
       "      <td>25.66</td>\n",
       "      <td>25.97</td>\n",
       "      <td>78.188</td>\n",
       "      <td>-10.9613</td>\n",
       "      <td>2.4607</td>\n",
       "    </tr>\n",
       "    <tr>\n",
       "      <th>2</th>\n",
       "      <td>1980-03-09</td>\n",
       "      <td>800309</td>\n",
       "      <td>-0.02</td>\n",
       "      <td>-109.46</td>\n",
       "      <td>-4.5</td>\n",
       "      <td>2.2</td>\n",
       "      <td>NaN</td>\n",
       "      <td>25.69</td>\n",
       "      <td>25.28</td>\n",
       "      <td>78.242</td>\n",
       "      <td>-10.0665</td>\n",
       "      <td>4.9214</td>\n",
       "    </tr>\n",
       "    <tr>\n",
       "      <th>3</th>\n",
       "      <td>1980-03-10</td>\n",
       "      <td>800310</td>\n",
       "      <td>-0.02</td>\n",
       "      <td>-109.46</td>\n",
       "      <td>-3.8</td>\n",
       "      <td>1.9</td>\n",
       "      <td>NaN</td>\n",
       "      <td>25.57</td>\n",
       "      <td>24.31</td>\n",
       "      <td>78.026</td>\n",
       "      <td>-8.5006</td>\n",
       "      <td>4.2503</td>\n",
       "    </tr>\n",
       "    <tr>\n",
       "      <th>4</th>\n",
       "      <td>1980-03-11</td>\n",
       "      <td>800311</td>\n",
       "      <td>-0.02</td>\n",
       "      <td>-109.46</td>\n",
       "      <td>-4.2</td>\n",
       "      <td>1.5</td>\n",
       "      <td>NaN</td>\n",
       "      <td>25.30</td>\n",
       "      <td>23.19</td>\n",
       "      <td>77.540</td>\n",
       "      <td>-9.3954</td>\n",
       "      <td>3.3555</td>\n",
       "    </tr>\n",
       "    <tr>\n",
       "      <th>...</th>\n",
       "      <td>...</td>\n",
       "      <td>...</td>\n",
       "      <td>...</td>\n",
       "      <td>...</td>\n",
       "      <td>...</td>\n",
       "      <td>...</td>\n",
       "      <td>...</td>\n",
       "      <td>...</td>\n",
       "      <td>...</td>\n",
       "      <td>...</td>\n",
       "      <td>...</td>\n",
       "      <td>...</td>\n",
       "    </tr>\n",
       "    <tr>\n",
       "      <th>178075</th>\n",
       "      <td>1998-06-11</td>\n",
       "      <td>980611</td>\n",
       "      <td>8.96</td>\n",
       "      <td>-140.33</td>\n",
       "      <td>-5.1</td>\n",
       "      <td>-0.4</td>\n",
       "      <td>94.1</td>\n",
       "      <td>26.04</td>\n",
       "      <td>28.14</td>\n",
       "      <td>78.872</td>\n",
       "      <td>-11.4087</td>\n",
       "      <td>-0.8948</td>\n",
       "    </tr>\n",
       "    <tr>\n",
       "      <th>178076</th>\n",
       "      <td>1998-06-12</td>\n",
       "      <td>980612</td>\n",
       "      <td>8.96</td>\n",
       "      <td>-140.32</td>\n",
       "      <td>-4.3</td>\n",
       "      <td>-3.3</td>\n",
       "      <td>93.2</td>\n",
       "      <td>25.80</td>\n",
       "      <td>27.87</td>\n",
       "      <td>78.440</td>\n",
       "      <td>-9.6191</td>\n",
       "      <td>-7.3821</td>\n",
       "    </tr>\n",
       "    <tr>\n",
       "      <th>178077</th>\n",
       "      <td>1998-06-13</td>\n",
       "      <td>980613</td>\n",
       "      <td>8.95</td>\n",
       "      <td>-140.34</td>\n",
       "      <td>-6.1</td>\n",
       "      <td>-4.8</td>\n",
       "      <td>81.3</td>\n",
       "      <td>27.17</td>\n",
       "      <td>27.93</td>\n",
       "      <td>80.906</td>\n",
       "      <td>-13.6457</td>\n",
       "      <td>-10.7376</td>\n",
       "    </tr>\n",
       "    <tr>\n",
       "      <th>178078</th>\n",
       "      <td>1998-06-14</td>\n",
       "      <td>980614</td>\n",
       "      <td>8.96</td>\n",
       "      <td>-140.33</td>\n",
       "      <td>-4.9</td>\n",
       "      <td>-2.3</td>\n",
       "      <td>76.2</td>\n",
       "      <td>27.36</td>\n",
       "      <td>28.03</td>\n",
       "      <td>81.248</td>\n",
       "      <td>-10.9613</td>\n",
       "      <td>-5.1451</td>\n",
       "    </tr>\n",
       "    <tr>\n",
       "      <th>178079</th>\n",
       "      <td>1998-06-15</td>\n",
       "      <td>980615</td>\n",
       "      <td>8.95</td>\n",
       "      <td>-140.33</td>\n",
       "      <td>NaN</td>\n",
       "      <td>NaN</td>\n",
       "      <td>NaN</td>\n",
       "      <td>27.09</td>\n",
       "      <td>28.09</td>\n",
       "      <td>80.762</td>\n",
       "      <td>NaN</td>\n",
       "      <td>NaN</td>\n",
       "    </tr>\n",
       "  </tbody>\n",
       "</table>\n",
       "<p>178080 rows × 12 columns</p>\n",
       "</div>\n",
       "      <button class=\"colab-df-convert\" onclick=\"convertToInteractive('df-682fb579-d214-4c23-8c28-7b5f8b8399b2')\"\n",
       "              title=\"Convert this dataframe to an interactive table.\"\n",
       "              style=\"display:none;\">\n",
       "        \n",
       "  <svg xmlns=\"http://www.w3.org/2000/svg\" height=\"24px\"viewBox=\"0 0 24 24\"\n",
       "       width=\"24px\">\n",
       "    <path d=\"M0 0h24v24H0V0z\" fill=\"none\"/>\n",
       "    <path d=\"M18.56 5.44l.94 2.06.94-2.06 2.06-.94-2.06-.94-.94-2.06-.94 2.06-2.06.94zm-11 1L8.5 8.5l.94-2.06 2.06-.94-2.06-.94L8.5 2.5l-.94 2.06-2.06.94zm10 10l.94 2.06.94-2.06 2.06-.94-2.06-.94-.94-2.06-.94 2.06-2.06.94z\"/><path d=\"M17.41 7.96l-1.37-1.37c-.4-.4-.92-.59-1.43-.59-.52 0-1.04.2-1.43.59L10.3 9.45l-7.72 7.72c-.78.78-.78 2.05 0 2.83L4 21.41c.39.39.9.59 1.41.59.51 0 1.02-.2 1.41-.59l7.78-7.78 2.81-2.81c.8-.78.8-2.07 0-2.86zM5.41 20L4 18.59l7.72-7.72 1.47 1.35L5.41 20z\"/>\n",
       "  </svg>\n",
       "      </button>\n",
       "      \n",
       "  <style>\n",
       "    .colab-df-container {\n",
       "      display:flex;\n",
       "      flex-wrap:wrap;\n",
       "      gap: 12px;\n",
       "    }\n",
       "\n",
       "    .colab-df-convert {\n",
       "      background-color: #E8F0FE;\n",
       "      border: none;\n",
       "      border-radius: 50%;\n",
       "      cursor: pointer;\n",
       "      display: none;\n",
       "      fill: #1967D2;\n",
       "      height: 32px;\n",
       "      padding: 0 0 0 0;\n",
       "      width: 32px;\n",
       "    }\n",
       "\n",
       "    .colab-df-convert:hover {\n",
       "      background-color: #E2EBFA;\n",
       "      box-shadow: 0px 1px 2px rgba(60, 64, 67, 0.3), 0px 1px 3px 1px rgba(60, 64, 67, 0.15);\n",
       "      fill: #174EA6;\n",
       "    }\n",
       "\n",
       "    [theme=dark] .colab-df-convert {\n",
       "      background-color: #3B4455;\n",
       "      fill: #D2E3FC;\n",
       "    }\n",
       "\n",
       "    [theme=dark] .colab-df-convert:hover {\n",
       "      background-color: #434B5C;\n",
       "      box-shadow: 0px 1px 3px 1px rgba(0, 0, 0, 0.15);\n",
       "      filter: drop-shadow(0px 1px 2px rgba(0, 0, 0, 0.3));\n",
       "      fill: #FFFFFF;\n",
       "    }\n",
       "  </style>\n",
       "\n",
       "      <script>\n",
       "        const buttonEl =\n",
       "          document.querySelector('#df-682fb579-d214-4c23-8c28-7b5f8b8399b2 button.colab-df-convert');\n",
       "        buttonEl.style.display =\n",
       "          google.colab.kernel.accessAllowed ? 'block' : 'none';\n",
       "\n",
       "        async function convertToInteractive(key) {\n",
       "          const element = document.querySelector('#df-682fb579-d214-4c23-8c28-7b5f8b8399b2');\n",
       "          const dataTable =\n",
       "            await google.colab.kernel.invokeFunction('convertToInteractive',\n",
       "                                                     [key], {});\n",
       "          if (!dataTable) return;\n",
       "\n",
       "          const docLinkHtml = 'Like what you see? Visit the ' +\n",
       "            '<a target=\"_blank\" href=https://colab.research.google.com/notebooks/data_table.ipynb>data table notebook</a>'\n",
       "            + ' to learn more about interactive tables.';\n",
       "          element.innerHTML = '';\n",
       "          dataTable['output_type'] = 'display_data';\n",
       "          await google.colab.output.renderOutput(dataTable, element);\n",
       "          const docLink = document.createElement('div');\n",
       "          docLink.innerHTML = docLinkHtml;\n",
       "          element.appendChild(docLink);\n",
       "        }\n",
       "      </script>\n",
       "    </div>\n",
       "  </div>\n",
       "  "
      ],
      "text/plain": [
       "       year_month_day    date  latitude  longitude  zon_winds  mer_winds  \\\n",
       "0          1980-03-07  800307     -0.02    -109.46       -6.8        0.7   \n",
       "1          1980-03-08  800308     -0.02    -109.46       -4.9        1.1   \n",
       "2          1980-03-09  800309     -0.02    -109.46       -4.5        2.2   \n",
       "3          1980-03-10  800310     -0.02    -109.46       -3.8        1.9   \n",
       "4          1980-03-11  800311     -0.02    -109.46       -4.2        1.5   \n",
       "...               ...     ...       ...        ...        ...        ...   \n",
       "178075     1998-06-11  980611      8.96    -140.33       -5.1       -0.4   \n",
       "178076     1998-06-12  980612      8.96    -140.32       -4.3       -3.3   \n",
       "178077     1998-06-13  980613      8.95    -140.34       -6.1       -4.8   \n",
       "178078     1998-06-14  980614      8.96    -140.33       -4.9       -2.3   \n",
       "178079     1998-06-15  980615      8.95    -140.33        NaN        NaN   \n",
       "\n",
       "        humidity  air_temp_  s_s_temp_  air_temp_F  zon_winds_mph  \\\n",
       "0            NaN      26.14      26.24      79.052       -15.2116   \n",
       "1            NaN      25.66      25.97      78.188       -10.9613   \n",
       "2            NaN      25.69      25.28      78.242       -10.0665   \n",
       "3            NaN      25.57      24.31      78.026        -8.5006   \n",
       "4            NaN      25.30      23.19      77.540        -9.3954   \n",
       "...          ...        ...        ...         ...            ...   \n",
       "178075      94.1      26.04      28.14      78.872       -11.4087   \n",
       "178076      93.2      25.80      27.87      78.440        -9.6191   \n",
       "178077      81.3      27.17      27.93      80.906       -13.6457   \n",
       "178078      76.2      27.36      28.03      81.248       -10.9613   \n",
       "178079       NaN      27.09      28.09      80.762            NaN   \n",
       "\n",
       "        mer_winds_mph  \n",
       "0              1.5659  \n",
       "1              2.4607  \n",
       "2              4.9214  \n",
       "3              4.2503  \n",
       "4              3.3555  \n",
       "...               ...  \n",
       "178075        -0.8948  \n",
       "178076        -7.3821  \n",
       "178077       -10.7376  \n",
       "178078        -5.1451  \n",
       "178079            NaN  \n",
       "\n",
       "[178080 rows x 12 columns]"
      ]
     },
     "execution_count": 3,
     "metadata": {},
     "output_type": "execute_result"
    }
   ],
   "source": [
    "names = '''obs\n",
    "year\n",
    "month\n",
    "day\n",
    "date\n",
    "latitude\n",
    "longitude\n",
    "zon.winds\n",
    "mer.winds\n",
    "humidity\n",
    "air temp.\n",
    "s.s.temp.'''.split('\\n')\n",
    "\n",
    "nino = pd.read_csv('/content/gdrive/tao-all2.dat', sep=' ', names=names, na_values='.', \n",
    "                   parse_dates=[[1,2,3]])\n",
    "\n",
    "def clean_cols(val):\n",
    "    return val.replace('.', '_').replace(' ', '_')\n",
    "\n",
    "nino = (nino\n",
    "  .rename(columns=clean_cols)\n",
    "  .assign(air_temp_F=lambda df_: df_.air_temp_ * 9/5 + 32,\n",
    "        zon_winds_mph=lambda df_: df_.zon_winds*2.237,\n",
    "        mer_winds_mph=lambda df_: df_.mer_winds*2.237)\n",
    "  .drop(columns='obs')\n",
    ")\n",
    "nino"
   ]
  },
  {
   "cell_type": "code",
   "execution_count": 4,
   "metadata": {
    "colab": {
     "base_uri": "https://localhost:8080/",
     "height": 424
    },
    "executionInfo": {
     "elapsed": 136,
     "status": "ok",
     "timestamp": 1669751513912,
     "user": {
      "displayName": "Tejasri Pavuluri",
      "userId": "17831795534061040396"
     },
     "user_tz": 300
    },
    "id": "SdiOiPMB8uEd",
    "outputId": "942f51de-1a25-4e7a-ae8d-92b2973ec03f"
   },
   "outputs": [
    {
     "data": {
      "text/html": [
       "\n",
       "  <div id=\"df-aac1b4ef-af21-496c-82e1-9c89c4df2d4a\">\n",
       "    <div class=\"colab-df-container\">\n",
       "      <div>\n",
       "<style scoped>\n",
       "    .dataframe tbody tr th:only-of-type {\n",
       "        vertical-align: middle;\n",
       "    }\n",
       "\n",
       "    .dataframe tbody tr th {\n",
       "        vertical-align: top;\n",
       "    }\n",
       "\n",
       "    .dataframe thead th {\n",
       "        text-align: right;\n",
       "    }\n",
       "</style>\n",
       "<table border=\"1\" class=\"dataframe\">\n",
       "  <thead>\n",
       "    <tr style=\"text-align: right;\">\n",
       "      <th></th>\n",
       "      <th>year_month_day</th>\n",
       "      <th>date</th>\n",
       "      <th>latitude</th>\n",
       "      <th>longitude</th>\n",
       "      <th>zon_winds</th>\n",
       "      <th>mer_winds</th>\n",
       "      <th>humidity</th>\n",
       "      <th>air_temp_</th>\n",
       "      <th>s_s_temp_</th>\n",
       "    </tr>\n",
       "  </thead>\n",
       "  <tbody>\n",
       "    <tr>\n",
       "      <th>0</th>\n",
       "      <td>1980-03-07</td>\n",
       "      <td>800307</td>\n",
       "      <td>-0.02</td>\n",
       "      <td>-109.46</td>\n",
       "      <td>-6.8</td>\n",
       "      <td>0.7</td>\n",
       "      <td>NaN</td>\n",
       "      <td>26.14</td>\n",
       "      <td>26.24</td>\n",
       "    </tr>\n",
       "    <tr>\n",
       "      <th>1</th>\n",
       "      <td>1980-03-08</td>\n",
       "      <td>800308</td>\n",
       "      <td>-0.02</td>\n",
       "      <td>-109.46</td>\n",
       "      <td>-4.9</td>\n",
       "      <td>1.1</td>\n",
       "      <td>NaN</td>\n",
       "      <td>25.66</td>\n",
       "      <td>25.97</td>\n",
       "    </tr>\n",
       "    <tr>\n",
       "      <th>2</th>\n",
       "      <td>1980-03-09</td>\n",
       "      <td>800309</td>\n",
       "      <td>-0.02</td>\n",
       "      <td>-109.46</td>\n",
       "      <td>-4.5</td>\n",
       "      <td>2.2</td>\n",
       "      <td>NaN</td>\n",
       "      <td>25.69</td>\n",
       "      <td>25.28</td>\n",
       "    </tr>\n",
       "    <tr>\n",
       "      <th>3</th>\n",
       "      <td>1980-03-10</td>\n",
       "      <td>800310</td>\n",
       "      <td>-0.02</td>\n",
       "      <td>-109.46</td>\n",
       "      <td>-3.8</td>\n",
       "      <td>1.9</td>\n",
       "      <td>NaN</td>\n",
       "      <td>25.57</td>\n",
       "      <td>24.31</td>\n",
       "    </tr>\n",
       "    <tr>\n",
       "      <th>4</th>\n",
       "      <td>1980-03-11</td>\n",
       "      <td>800311</td>\n",
       "      <td>-0.02</td>\n",
       "      <td>-109.46</td>\n",
       "      <td>-4.2</td>\n",
       "      <td>1.5</td>\n",
       "      <td>NaN</td>\n",
       "      <td>25.30</td>\n",
       "      <td>23.19</td>\n",
       "    </tr>\n",
       "    <tr>\n",
       "      <th>...</th>\n",
       "      <td>...</td>\n",
       "      <td>...</td>\n",
       "      <td>...</td>\n",
       "      <td>...</td>\n",
       "      <td>...</td>\n",
       "      <td>...</td>\n",
       "      <td>...</td>\n",
       "      <td>...</td>\n",
       "      <td>...</td>\n",
       "    </tr>\n",
       "    <tr>\n",
       "      <th>178075</th>\n",
       "      <td>1998-06-11</td>\n",
       "      <td>980611</td>\n",
       "      <td>8.96</td>\n",
       "      <td>-140.33</td>\n",
       "      <td>-5.1</td>\n",
       "      <td>-0.4</td>\n",
       "      <td>94.1</td>\n",
       "      <td>26.04</td>\n",
       "      <td>28.14</td>\n",
       "    </tr>\n",
       "    <tr>\n",
       "      <th>178076</th>\n",
       "      <td>1998-06-12</td>\n",
       "      <td>980612</td>\n",
       "      <td>8.96</td>\n",
       "      <td>-140.32</td>\n",
       "      <td>-4.3</td>\n",
       "      <td>-3.3</td>\n",
       "      <td>93.2</td>\n",
       "      <td>25.80</td>\n",
       "      <td>27.87</td>\n",
       "    </tr>\n",
       "    <tr>\n",
       "      <th>178077</th>\n",
       "      <td>1998-06-13</td>\n",
       "      <td>980613</td>\n",
       "      <td>8.95</td>\n",
       "      <td>-140.34</td>\n",
       "      <td>-6.1</td>\n",
       "      <td>-4.8</td>\n",
       "      <td>81.3</td>\n",
       "      <td>27.17</td>\n",
       "      <td>27.93</td>\n",
       "    </tr>\n",
       "    <tr>\n",
       "      <th>178078</th>\n",
       "      <td>1998-06-14</td>\n",
       "      <td>980614</td>\n",
       "      <td>8.96</td>\n",
       "      <td>-140.33</td>\n",
       "      <td>-4.9</td>\n",
       "      <td>-2.3</td>\n",
       "      <td>76.2</td>\n",
       "      <td>27.36</td>\n",
       "      <td>28.03</td>\n",
       "    </tr>\n",
       "    <tr>\n",
       "      <th>178079</th>\n",
       "      <td>1998-06-15</td>\n",
       "      <td>980615</td>\n",
       "      <td>8.95</td>\n",
       "      <td>-140.33</td>\n",
       "      <td>NaN</td>\n",
       "      <td>NaN</td>\n",
       "      <td>NaN</td>\n",
       "      <td>27.09</td>\n",
       "      <td>28.09</td>\n",
       "    </tr>\n",
       "  </tbody>\n",
       "</table>\n",
       "<p>178080 rows × 9 columns</p>\n",
       "</div>\n",
       "      <button class=\"colab-df-convert\" onclick=\"convertToInteractive('df-aac1b4ef-af21-496c-82e1-9c89c4df2d4a')\"\n",
       "              title=\"Convert this dataframe to an interactive table.\"\n",
       "              style=\"display:none;\">\n",
       "        \n",
       "  <svg xmlns=\"http://www.w3.org/2000/svg\" height=\"24px\"viewBox=\"0 0 24 24\"\n",
       "       width=\"24px\">\n",
       "    <path d=\"M0 0h24v24H0V0z\" fill=\"none\"/>\n",
       "    <path d=\"M18.56 5.44l.94 2.06.94-2.06 2.06-.94-2.06-.94-.94-2.06-.94 2.06-2.06.94zm-11 1L8.5 8.5l.94-2.06 2.06-.94-2.06-.94L8.5 2.5l-.94 2.06-2.06.94zm10 10l.94 2.06.94-2.06 2.06-.94-2.06-.94-.94-2.06-.94 2.06-2.06.94z\"/><path d=\"M17.41 7.96l-1.37-1.37c-.4-.4-.92-.59-1.43-.59-.52 0-1.04.2-1.43.59L10.3 9.45l-7.72 7.72c-.78.78-.78 2.05 0 2.83L4 21.41c.39.39.9.59 1.41.59.51 0 1.02-.2 1.41-.59l7.78-7.78 2.81-2.81c.8-.78.8-2.07 0-2.86zM5.41 20L4 18.59l7.72-7.72 1.47 1.35L5.41 20z\"/>\n",
       "  </svg>\n",
       "      </button>\n",
       "      \n",
       "  <style>\n",
       "    .colab-df-container {\n",
       "      display:flex;\n",
       "      flex-wrap:wrap;\n",
       "      gap: 12px;\n",
       "    }\n",
       "\n",
       "    .colab-df-convert {\n",
       "      background-color: #E8F0FE;\n",
       "      border: none;\n",
       "      border-radius: 50%;\n",
       "      cursor: pointer;\n",
       "      display: none;\n",
       "      fill: #1967D2;\n",
       "      height: 32px;\n",
       "      padding: 0 0 0 0;\n",
       "      width: 32px;\n",
       "    }\n",
       "\n",
       "    .colab-df-convert:hover {\n",
       "      background-color: #E2EBFA;\n",
       "      box-shadow: 0px 1px 2px rgba(60, 64, 67, 0.3), 0px 1px 3px 1px rgba(60, 64, 67, 0.15);\n",
       "      fill: #174EA6;\n",
       "    }\n",
       "\n",
       "    [theme=dark] .colab-df-convert {\n",
       "      background-color: #3B4455;\n",
       "      fill: #D2E3FC;\n",
       "    }\n",
       "\n",
       "    [theme=dark] .colab-df-convert:hover {\n",
       "      background-color: #434B5C;\n",
       "      box-shadow: 0px 1px 3px 1px rgba(0, 0, 0, 0.15);\n",
       "      filter: drop-shadow(0px 1px 2px rgba(0, 0, 0, 0.3));\n",
       "      fill: #FFFFFF;\n",
       "    }\n",
       "  </style>\n",
       "\n",
       "      <script>\n",
       "        const buttonEl =\n",
       "          document.querySelector('#df-aac1b4ef-af21-496c-82e1-9c89c4df2d4a button.colab-df-convert');\n",
       "        buttonEl.style.display =\n",
       "          google.colab.kernel.accessAllowed ? 'block' : 'none';\n",
       "\n",
       "        async function convertToInteractive(key) {\n",
       "          const element = document.querySelector('#df-aac1b4ef-af21-496c-82e1-9c89c4df2d4a');\n",
       "          const dataTable =\n",
       "            await google.colab.kernel.invokeFunction('convertToInteractive',\n",
       "                                                     [key], {});\n",
       "          if (!dataTable) return;\n",
       "\n",
       "          const docLinkHtml = 'Like what you see? Visit the ' +\n",
       "            '<a target=\"_blank\" href=https://colab.research.google.com/notebooks/data_table.ipynb>data table notebook</a>'\n",
       "            + ' to learn more about interactive tables.';\n",
       "          element.innerHTML = '';\n",
       "          dataTable['output_type'] = 'display_data';\n",
       "          await google.colab.output.renderOutput(dataTable, element);\n",
       "          const docLink = document.createElement('div');\n",
       "          docLink.innerHTML = docLinkHtml;\n",
       "          element.appendChild(docLink);\n",
       "        }\n",
       "      </script>\n",
       "    </div>\n",
       "  </div>\n",
       "  "
      ],
      "text/plain": [
       "       year_month_day    date  latitude  longitude  zon_winds  mer_winds  \\\n",
       "0          1980-03-07  800307     -0.02    -109.46       -6.8        0.7   \n",
       "1          1980-03-08  800308     -0.02    -109.46       -4.9        1.1   \n",
       "2          1980-03-09  800309     -0.02    -109.46       -4.5        2.2   \n",
       "3          1980-03-10  800310     -0.02    -109.46       -3.8        1.9   \n",
       "4          1980-03-11  800311     -0.02    -109.46       -4.2        1.5   \n",
       "...               ...     ...       ...        ...        ...        ...   \n",
       "178075     1998-06-11  980611      8.96    -140.33       -5.1       -0.4   \n",
       "178076     1998-06-12  980612      8.96    -140.32       -4.3       -3.3   \n",
       "178077     1998-06-13  980613      8.95    -140.34       -6.1       -4.8   \n",
       "178078     1998-06-14  980614      8.96    -140.33       -4.9       -2.3   \n",
       "178079     1998-06-15  980615      8.95    -140.33        NaN        NaN   \n",
       "\n",
       "        humidity  air_temp_  s_s_temp_  \n",
       "0            NaN      26.14      26.24  \n",
       "1            NaN      25.66      25.97  \n",
       "2            NaN      25.69      25.28  \n",
       "3            NaN      25.57      24.31  \n",
       "4            NaN      25.30      23.19  \n",
       "...          ...        ...        ...  \n",
       "178075      94.1      26.04      28.14  \n",
       "178076      93.2      25.80      27.87  \n",
       "178077      81.3      27.17      27.93  \n",
       "178078      76.2      27.36      28.03  \n",
       "178079       NaN      27.09      28.09  \n",
       "\n",
       "[178080 rows x 9 columns]"
      ]
     },
     "execution_count": 4,
     "metadata": {},
     "output_type": "execute_result"
    }
   ],
   "source": [
    "# Reorder and remove duplicate columns - place 'sea_surface_temp' to the last\n",
    "nino=nino[['year_month_day', 'date', 'latitude', 'longitude', 'zon_winds',\n",
    "       'mer_winds', 'humidity', 'air_temp_', 's_s_temp_']]\n",
    "nino"
   ]
  },
  {
   "cell_type": "code",
   "execution_count": 5,
   "metadata": {
    "colab": {
     "base_uri": "https://localhost:8080/",
     "height": 510
    },
    "executionInfo": {
     "elapsed": 163,
     "status": "ok",
     "timestamp": 1669751517107,
     "user": {
      "displayName": "Tejasri Pavuluri",
      "userId": "17831795534061040396"
     },
     "user_tz": 300
    },
    "id": "ofRRtsOu89aF",
    "outputId": "1bc2e244-c8ca-4c53-f65b-af531b526692"
   },
   "outputs": [
    {
     "name": "stderr",
     "output_type": "stream",
     "text": [
      "/usr/local/lib/python3.7/dist-packages/pandas/core/frame.py:5047: SettingWithCopyWarning: \n",
      "A value is trying to be set on a copy of a slice from a DataFrame\n",
      "\n",
      "See the caveats in the documentation: https://pandas.pydata.org/pandas-docs/stable/user_guide/indexing.html#returning-a-view-versus-a-copy\n",
      "  errors=errors,\n"
     ]
    },
    {
     "data": {
      "text/html": [
       "\n",
       "  <div id=\"df-cdf6d53d-fe61-4034-b438-e3c6155e45c5\">\n",
       "    <div class=\"colab-df-container\">\n",
       "      <div>\n",
       "<style scoped>\n",
       "    .dataframe tbody tr th:only-of-type {\n",
       "        vertical-align: middle;\n",
       "    }\n",
       "\n",
       "    .dataframe tbody tr th {\n",
       "        vertical-align: top;\n",
       "    }\n",
       "\n",
       "    .dataframe thead th {\n",
       "        text-align: right;\n",
       "    }\n",
       "</style>\n",
       "<table border=\"1\" class=\"dataframe\">\n",
       "  <thead>\n",
       "    <tr style=\"text-align: right;\">\n",
       "      <th></th>\n",
       "      <th>Year_Month_Day</th>\n",
       "      <th>Date</th>\n",
       "      <th>Latitude</th>\n",
       "      <th>Longitude</th>\n",
       "      <th>Zonal Winds</th>\n",
       "      <th>Meridional Winds</th>\n",
       "      <th>Humidity</th>\n",
       "      <th>Air Temp</th>\n",
       "      <th>Sea Surface Temp</th>\n",
       "    </tr>\n",
       "  </thead>\n",
       "  <tbody>\n",
       "    <tr>\n",
       "      <th>0</th>\n",
       "      <td>1980-03-07</td>\n",
       "      <td>800307</td>\n",
       "      <td>-0.02</td>\n",
       "      <td>-109.46</td>\n",
       "      <td>-6.8</td>\n",
       "      <td>0.7</td>\n",
       "      <td>NaN</td>\n",
       "      <td>26.14</td>\n",
       "      <td>26.24</td>\n",
       "    </tr>\n",
       "    <tr>\n",
       "      <th>1</th>\n",
       "      <td>1980-03-08</td>\n",
       "      <td>800308</td>\n",
       "      <td>-0.02</td>\n",
       "      <td>-109.46</td>\n",
       "      <td>-4.9</td>\n",
       "      <td>1.1</td>\n",
       "      <td>NaN</td>\n",
       "      <td>25.66</td>\n",
       "      <td>25.97</td>\n",
       "    </tr>\n",
       "    <tr>\n",
       "      <th>2</th>\n",
       "      <td>1980-03-09</td>\n",
       "      <td>800309</td>\n",
       "      <td>-0.02</td>\n",
       "      <td>-109.46</td>\n",
       "      <td>-4.5</td>\n",
       "      <td>2.2</td>\n",
       "      <td>NaN</td>\n",
       "      <td>25.69</td>\n",
       "      <td>25.28</td>\n",
       "    </tr>\n",
       "    <tr>\n",
       "      <th>3</th>\n",
       "      <td>1980-03-10</td>\n",
       "      <td>800310</td>\n",
       "      <td>-0.02</td>\n",
       "      <td>-109.46</td>\n",
       "      <td>-3.8</td>\n",
       "      <td>1.9</td>\n",
       "      <td>NaN</td>\n",
       "      <td>25.57</td>\n",
       "      <td>24.31</td>\n",
       "    </tr>\n",
       "    <tr>\n",
       "      <th>4</th>\n",
       "      <td>1980-03-11</td>\n",
       "      <td>800311</td>\n",
       "      <td>-0.02</td>\n",
       "      <td>-109.46</td>\n",
       "      <td>-4.2</td>\n",
       "      <td>1.5</td>\n",
       "      <td>NaN</td>\n",
       "      <td>25.30</td>\n",
       "      <td>23.19</td>\n",
       "    </tr>\n",
       "    <tr>\n",
       "      <th>...</th>\n",
       "      <td>...</td>\n",
       "      <td>...</td>\n",
       "      <td>...</td>\n",
       "      <td>...</td>\n",
       "      <td>...</td>\n",
       "      <td>...</td>\n",
       "      <td>...</td>\n",
       "      <td>...</td>\n",
       "      <td>...</td>\n",
       "    </tr>\n",
       "    <tr>\n",
       "      <th>178075</th>\n",
       "      <td>1998-06-11</td>\n",
       "      <td>980611</td>\n",
       "      <td>8.96</td>\n",
       "      <td>-140.33</td>\n",
       "      <td>-5.1</td>\n",
       "      <td>-0.4</td>\n",
       "      <td>94.1</td>\n",
       "      <td>26.04</td>\n",
       "      <td>28.14</td>\n",
       "    </tr>\n",
       "    <tr>\n",
       "      <th>178076</th>\n",
       "      <td>1998-06-12</td>\n",
       "      <td>980612</td>\n",
       "      <td>8.96</td>\n",
       "      <td>-140.32</td>\n",
       "      <td>-4.3</td>\n",
       "      <td>-3.3</td>\n",
       "      <td>93.2</td>\n",
       "      <td>25.80</td>\n",
       "      <td>27.87</td>\n",
       "    </tr>\n",
       "    <tr>\n",
       "      <th>178077</th>\n",
       "      <td>1998-06-13</td>\n",
       "      <td>980613</td>\n",
       "      <td>8.95</td>\n",
       "      <td>-140.34</td>\n",
       "      <td>-6.1</td>\n",
       "      <td>-4.8</td>\n",
       "      <td>81.3</td>\n",
       "      <td>27.17</td>\n",
       "      <td>27.93</td>\n",
       "    </tr>\n",
       "    <tr>\n",
       "      <th>178078</th>\n",
       "      <td>1998-06-14</td>\n",
       "      <td>980614</td>\n",
       "      <td>8.96</td>\n",
       "      <td>-140.33</td>\n",
       "      <td>-4.9</td>\n",
       "      <td>-2.3</td>\n",
       "      <td>76.2</td>\n",
       "      <td>27.36</td>\n",
       "      <td>28.03</td>\n",
       "    </tr>\n",
       "    <tr>\n",
       "      <th>178079</th>\n",
       "      <td>1998-06-15</td>\n",
       "      <td>980615</td>\n",
       "      <td>8.95</td>\n",
       "      <td>-140.33</td>\n",
       "      <td>NaN</td>\n",
       "      <td>NaN</td>\n",
       "      <td>NaN</td>\n",
       "      <td>27.09</td>\n",
       "      <td>28.09</td>\n",
       "    </tr>\n",
       "  </tbody>\n",
       "</table>\n",
       "<p>178080 rows × 9 columns</p>\n",
       "</div>\n",
       "      <button class=\"colab-df-convert\" onclick=\"convertToInteractive('df-cdf6d53d-fe61-4034-b438-e3c6155e45c5')\"\n",
       "              title=\"Convert this dataframe to an interactive table.\"\n",
       "              style=\"display:none;\">\n",
       "        \n",
       "  <svg xmlns=\"http://www.w3.org/2000/svg\" height=\"24px\"viewBox=\"0 0 24 24\"\n",
       "       width=\"24px\">\n",
       "    <path d=\"M0 0h24v24H0V0z\" fill=\"none\"/>\n",
       "    <path d=\"M18.56 5.44l.94 2.06.94-2.06 2.06-.94-2.06-.94-.94-2.06-.94 2.06-2.06.94zm-11 1L8.5 8.5l.94-2.06 2.06-.94-2.06-.94L8.5 2.5l-.94 2.06-2.06.94zm10 10l.94 2.06.94-2.06 2.06-.94-2.06-.94-.94-2.06-.94 2.06-2.06.94z\"/><path d=\"M17.41 7.96l-1.37-1.37c-.4-.4-.92-.59-1.43-.59-.52 0-1.04.2-1.43.59L10.3 9.45l-7.72 7.72c-.78.78-.78 2.05 0 2.83L4 21.41c.39.39.9.59 1.41.59.51 0 1.02-.2 1.41-.59l7.78-7.78 2.81-2.81c.8-.78.8-2.07 0-2.86zM5.41 20L4 18.59l7.72-7.72 1.47 1.35L5.41 20z\"/>\n",
       "  </svg>\n",
       "      </button>\n",
       "      \n",
       "  <style>\n",
       "    .colab-df-container {\n",
       "      display:flex;\n",
       "      flex-wrap:wrap;\n",
       "      gap: 12px;\n",
       "    }\n",
       "\n",
       "    .colab-df-convert {\n",
       "      background-color: #E8F0FE;\n",
       "      border: none;\n",
       "      border-radius: 50%;\n",
       "      cursor: pointer;\n",
       "      display: none;\n",
       "      fill: #1967D2;\n",
       "      height: 32px;\n",
       "      padding: 0 0 0 0;\n",
       "      width: 32px;\n",
       "    }\n",
       "\n",
       "    .colab-df-convert:hover {\n",
       "      background-color: #E2EBFA;\n",
       "      box-shadow: 0px 1px 2px rgba(60, 64, 67, 0.3), 0px 1px 3px 1px rgba(60, 64, 67, 0.15);\n",
       "      fill: #174EA6;\n",
       "    }\n",
       "\n",
       "    [theme=dark] .colab-df-convert {\n",
       "      background-color: #3B4455;\n",
       "      fill: #D2E3FC;\n",
       "    }\n",
       "\n",
       "    [theme=dark] .colab-df-convert:hover {\n",
       "      background-color: #434B5C;\n",
       "      box-shadow: 0px 1px 3px 1px rgba(0, 0, 0, 0.15);\n",
       "      filter: drop-shadow(0px 1px 2px rgba(0, 0, 0, 0.3));\n",
       "      fill: #FFFFFF;\n",
       "    }\n",
       "  </style>\n",
       "\n",
       "      <script>\n",
       "        const buttonEl =\n",
       "          document.querySelector('#df-cdf6d53d-fe61-4034-b438-e3c6155e45c5 button.colab-df-convert');\n",
       "        buttonEl.style.display =\n",
       "          google.colab.kernel.accessAllowed ? 'block' : 'none';\n",
       "\n",
       "        async function convertToInteractive(key) {\n",
       "          const element = document.querySelector('#df-cdf6d53d-fe61-4034-b438-e3c6155e45c5');\n",
       "          const dataTable =\n",
       "            await google.colab.kernel.invokeFunction('convertToInteractive',\n",
       "                                                     [key], {});\n",
       "          if (!dataTable) return;\n",
       "\n",
       "          const docLinkHtml = 'Like what you see? Visit the ' +\n",
       "            '<a target=\"_blank\" href=https://colab.research.google.com/notebooks/data_table.ipynb>data table notebook</a>'\n",
       "            + ' to learn more about interactive tables.';\n",
       "          element.innerHTML = '';\n",
       "          dataTable['output_type'] = 'display_data';\n",
       "          await google.colab.output.renderOutput(dataTable, element);\n",
       "          const docLink = document.createElement('div');\n",
       "          docLink.innerHTML = docLinkHtml;\n",
       "          element.appendChild(docLink);\n",
       "        }\n",
       "      </script>\n",
       "    </div>\n",
       "  </div>\n",
       "  "
      ],
      "text/plain": [
       "       Year_Month_Day    Date  Latitude  Longitude  Zonal Winds  \\\n",
       "0          1980-03-07  800307     -0.02    -109.46         -6.8   \n",
       "1          1980-03-08  800308     -0.02    -109.46         -4.9   \n",
       "2          1980-03-09  800309     -0.02    -109.46         -4.5   \n",
       "3          1980-03-10  800310     -0.02    -109.46         -3.8   \n",
       "4          1980-03-11  800311     -0.02    -109.46         -4.2   \n",
       "...               ...     ...       ...        ...          ...   \n",
       "178075     1998-06-11  980611      8.96    -140.33         -5.1   \n",
       "178076     1998-06-12  980612      8.96    -140.32         -4.3   \n",
       "178077     1998-06-13  980613      8.95    -140.34         -6.1   \n",
       "178078     1998-06-14  980614      8.96    -140.33         -4.9   \n",
       "178079     1998-06-15  980615      8.95    -140.33          NaN   \n",
       "\n",
       "        Meridional Winds  Humidity  Air Temp  Sea Surface Temp  \n",
       "0                    0.7       NaN     26.14             26.24  \n",
       "1                    1.1       NaN     25.66             25.97  \n",
       "2                    2.2       NaN     25.69             25.28  \n",
       "3                    1.9       NaN     25.57             24.31  \n",
       "4                    1.5       NaN     25.30             23.19  \n",
       "...                  ...       ...       ...               ...  \n",
       "178075              -0.4      94.1     26.04             28.14  \n",
       "178076              -3.3      93.2     25.80             27.87  \n",
       "178077              -4.8      81.3     27.17             27.93  \n",
       "178078              -2.3      76.2     27.36             28.03  \n",
       "178079               NaN       NaN     27.09             28.09  \n",
       "\n",
       "[178080 rows x 9 columns]"
      ]
     },
     "execution_count": 5,
     "metadata": {},
     "output_type": "execute_result"
    }
   ],
   "source": [
    "# Rename specific column names\n",
    "\n",
    "nino.rename(columns={'year_month_day': 'Year_Month_Day', 'date': 'Date','latitude': 'Latitude',\n",
    "                     'longitude': 'Longitude', 'zon_winds': 'Zonal Winds', 'mer_winds': 'Meridional Winds', \n",
    "                     'humidity': 'Humidity','air_temp_':'Air Temp', 's_s_temp_': 'Sea Surface Temp'}, inplace=True)\n",
    "nino"
   ]
  },
  {
   "cell_type": "code",
   "execution_count": 6,
   "metadata": {
    "colab": {
     "base_uri": "https://localhost:8080/"
    },
    "executionInfo": {
     "elapsed": 163,
     "status": "ok",
     "timestamp": 1669751520544,
     "user": {
      "displayName": "Tejasri Pavuluri",
      "userId": "17831795534061040396"
     },
     "user_tz": 300
    },
    "id": "Rmn1wNHNo5xH",
    "outputId": "1450b453-293d-4775-e16d-008efbb501c8"
   },
   "outputs": [
    {
     "name": "stdout",
     "output_type": "stream",
     "text": [
      "<class 'pandas.core.frame.DataFrame'>\n",
      "RangeIndex: 178080 entries, 0 to 178079\n",
      "Data columns (total 9 columns):\n",
      " #   Column            Non-Null Count   Dtype         \n",
      "---  ------            --------------   -----         \n",
      " 0   Year_Month_Day    178080 non-null  datetime64[ns]\n",
      " 1   Date              178080 non-null  int64         \n",
      " 2   Latitude          178080 non-null  float64       \n",
      " 3   Longitude         178080 non-null  float64       \n",
      " 4   Zonal Winds       152917 non-null  float64       \n",
      " 5   Meridional Winds  152918 non-null  float64       \n",
      " 6   Humidity          112319 non-null  float64       \n",
      " 7   Air Temp          159843 non-null  float64       \n",
      " 8   Sea Surface Temp  161073 non-null  float64       \n",
      "dtypes: datetime64[ns](1), float64(7), int64(1)\n",
      "memory usage: 12.2 MB\n"
     ]
    }
   ],
   "source": [
    "nino.info()"
   ]
  },
  {
   "cell_type": "code",
   "execution_count": null,
   "metadata": {
    "id": "xO4VfjRdphs4"
   },
   "outputs": [],
   "source": [
    "# Changing features to numerical \n",
    "nino['Zonal Winds'] = pd.to_numeric(nino['Zonal Winds'], errors='coerce')\n",
    "nino['Meridional Winds'] = pd.to_numeric(nino['Meridional Winds'], errors='coerce')\n",
    "nino['Humidity'] = pd.to_numeric(nino['Humidity'], errors='coerce')\n",
    "nino['Air Temp'] = pd.to_numeric(nino['Air Temp'], errors='coerce')\n",
    "nino['Sea Surface Temp'] = pd.to_numeric(nino['Sea Surface Temp'], errors='coerce')\n"
   ]
  },
  {
   "cell_type": "code",
   "execution_count": 8,
   "metadata": {
    "colab": {
     "base_uri": "https://localhost:8080/"
    },
    "executionInfo": {
     "elapsed": 137,
     "status": "ok",
     "timestamp": 1669751526317,
     "user": {
      "displayName": "Tejasri Pavuluri",
      "userId": "17831795534061040396"
     },
     "user_tz": 300
    },
    "id": "4t81WxATpsJ8",
    "outputId": "634faf0c-e85d-4ea8-9d58-671924a3d997"
   },
   "outputs": [
    {
     "name": "stdout",
     "output_type": "stream",
     "text": [
      "<class 'pandas.core.frame.DataFrame'>\n",
      "RangeIndex: 178080 entries, 0 to 178079\n",
      "Data columns (total 9 columns):\n",
      " #   Column            Non-Null Count   Dtype         \n",
      "---  ------            --------------   -----         \n",
      " 0   Year_Month_Day    178080 non-null  datetime64[ns]\n",
      " 1   Date              178080 non-null  int64         \n",
      " 2   Latitude          178080 non-null  float64       \n",
      " 3   Longitude         178080 non-null  float64       \n",
      " 4   Zonal Winds       152917 non-null  float64       \n",
      " 5   Meridional Winds  152918 non-null  float64       \n",
      " 6   Humidity          112319 non-null  float64       \n",
      " 7   Air Temp          159843 non-null  float64       \n",
      " 8   Sea Surface Temp  161073 non-null  float64       \n",
      "dtypes: datetime64[ns](1), float64(7), int64(1)\n",
      "memory usage: 12.2 MB\n"
     ]
    }
   ],
   "source": [
    "nino.info()"
   ]
  },
  {
   "cell_type": "code",
   "execution_count": 9,
   "metadata": {
    "colab": {
     "base_uri": "https://localhost:8080/",
     "height": 600
    },
    "executionInfo": {
     "elapsed": 1057,
     "status": "ok",
     "timestamp": 1669751529416,
     "user": {
      "displayName": "Tejasri Pavuluri",
      "userId": "17831795534061040396"
     },
     "user_tz": 300
    },
    "id": "HUOD2oTe9_5J",
    "outputId": "5cd9ecc5-dc46-486c-9723-a894ebd0cc45"
   },
   "outputs": [
    {
     "data": {
      "text/plain": [
       "<matplotlib.axes._subplots.AxesSubplot at 0x7f050fe1ff50>"
      ]
     },
     "execution_count": 9,
     "metadata": {},
     "output_type": "execute_result"
    },
    {
     "data": {
      "image/png": "[encoded data removed]",
      "text/plain": [
       "<Figure size 1800x720 with 3 Axes>"
      ]
     },
     "metadata": {
      "needs_background": "light"
     },
     "output_type": "display_data"
    }
   ],
   "source": [
    "# show the number of missing values using visualization\n",
    "import missingno as msno\n",
    "\n",
    "msno.bar(nino)"
   ]
  },
  {
   "cell_type": "code",
   "execution_count": 10,
   "metadata": {
    "colab": {
     "base_uri": "https://localhost:8080/",
     "height": 424
    },
    "executionInfo": {
     "elapsed": 124,
     "status": "ok",
     "timestamp": 1669751532406,
     "user": {
      "displayName": "Tejasri Pavuluri",
      "userId": "17831795534061040396"
     },
     "user_tz": 300
    },
    "id": "iaIK5vMx9xhz",
    "outputId": "7a363f5f-f502-4a91-d7e8-4942807eafcf"
   },
   "outputs": [
    {
     "data": {
      "text/html": [
       "\n",
       "  <div id=\"df-5d03f101-ebe0-497b-b72e-c1b0341445b6\">\n",
       "    <div class=\"colab-df-container\">\n",
       "      <div>\n",
       "<style scoped>\n",
       "    .dataframe tbody tr th:only-of-type {\n",
       "        vertical-align: middle;\n",
       "    }\n",
       "\n",
       "    .dataframe tbody tr th {\n",
       "        vertical-align: top;\n",
       "    }\n",
       "\n",
       "    .dataframe thead th {\n",
       "        text-align: right;\n",
       "    }\n",
       "</style>\n",
       "<table border=\"1\" class=\"dataframe\">\n",
       "  <thead>\n",
       "    <tr style=\"text-align: right;\">\n",
       "      <th></th>\n",
       "      <th>Year_Month_Day</th>\n",
       "      <th>Date</th>\n",
       "      <th>Latitude</th>\n",
       "      <th>Longitude</th>\n",
       "      <th>Zonal Winds</th>\n",
       "      <th>Meridional Winds</th>\n",
       "      <th>Humidity</th>\n",
       "      <th>Air Temp</th>\n",
       "      <th>Sea Surface Temp</th>\n",
       "    </tr>\n",
       "  </thead>\n",
       "  <tbody>\n",
       "    <tr>\n",
       "      <th>4059</th>\n",
       "      <td>1993-05-09</td>\n",
       "      <td>930509</td>\n",
       "      <td>-0.02</td>\n",
       "      <td>-109.96</td>\n",
       "      <td>-2.1</td>\n",
       "      <td>2.1</td>\n",
       "      <td>81.2</td>\n",
       "      <td>26.80</td>\n",
       "      <td>27.02</td>\n",
       "    </tr>\n",
       "    <tr>\n",
       "      <th>4060</th>\n",
       "      <td>1993-05-10</td>\n",
       "      <td>930510</td>\n",
       "      <td>-0.02</td>\n",
       "      <td>-109.96</td>\n",
       "      <td>-3.4</td>\n",
       "      <td>1.4</td>\n",
       "      <td>84.2</td>\n",
       "      <td>26.95</td>\n",
       "      <td>26.91</td>\n",
       "    </tr>\n",
       "    <tr>\n",
       "      <th>4061</th>\n",
       "      <td>1993-05-11</td>\n",
       "      <td>930511</td>\n",
       "      <td>-0.02</td>\n",
       "      <td>-109.96</td>\n",
       "      <td>-3.8</td>\n",
       "      <td>2.2</td>\n",
       "      <td>84.9</td>\n",
       "      <td>26.98</td>\n",
       "      <td>26.78</td>\n",
       "    </tr>\n",
       "    <tr>\n",
       "      <th>4062</th>\n",
       "      <td>1993-05-12</td>\n",
       "      <td>930512</td>\n",
       "      <td>-0.02</td>\n",
       "      <td>-109.96</td>\n",
       "      <td>-3.0</td>\n",
       "      <td>1.5</td>\n",
       "      <td>86.9</td>\n",
       "      <td>26.93</td>\n",
       "      <td>26.74</td>\n",
       "    </tr>\n",
       "    <tr>\n",
       "      <th>4063</th>\n",
       "      <td>1993-05-13</td>\n",
       "      <td>930513</td>\n",
       "      <td>-0.02</td>\n",
       "      <td>-109.96</td>\n",
       "      <td>-4.5</td>\n",
       "      <td>1.9</td>\n",
       "      <td>87.6</td>\n",
       "      <td>27.01</td>\n",
       "      <td>26.82</td>\n",
       "    </tr>\n",
       "    <tr>\n",
       "      <th>...</th>\n",
       "      <td>...</td>\n",
       "      <td>...</td>\n",
       "      <td>...</td>\n",
       "      <td>...</td>\n",
       "      <td>...</td>\n",
       "      <td>...</td>\n",
       "      <td>...</td>\n",
       "      <td>...</td>\n",
       "      <td>...</td>\n",
       "    </tr>\n",
       "    <tr>\n",
       "      <th>178074</th>\n",
       "      <td>1998-06-10</td>\n",
       "      <td>980610</td>\n",
       "      <td>8.95</td>\n",
       "      <td>-140.33</td>\n",
       "      <td>-6.8</td>\n",
       "      <td>-5.3</td>\n",
       "      <td>81.3</td>\n",
       "      <td>27.52</td>\n",
       "      <td>28.17</td>\n",
       "    </tr>\n",
       "    <tr>\n",
       "      <th>178075</th>\n",
       "      <td>1998-06-11</td>\n",
       "      <td>980611</td>\n",
       "      <td>8.96</td>\n",
       "      <td>-140.33</td>\n",
       "      <td>-5.1</td>\n",
       "      <td>-0.4</td>\n",
       "      <td>94.1</td>\n",
       "      <td>26.04</td>\n",
       "      <td>28.14</td>\n",
       "    </tr>\n",
       "    <tr>\n",
       "      <th>178076</th>\n",
       "      <td>1998-06-12</td>\n",
       "      <td>980612</td>\n",
       "      <td>8.96</td>\n",
       "      <td>-140.32</td>\n",
       "      <td>-4.3</td>\n",
       "      <td>-3.3</td>\n",
       "      <td>93.2</td>\n",
       "      <td>25.80</td>\n",
       "      <td>27.87</td>\n",
       "    </tr>\n",
       "    <tr>\n",
       "      <th>178077</th>\n",
       "      <td>1998-06-13</td>\n",
       "      <td>980613</td>\n",
       "      <td>8.95</td>\n",
       "      <td>-140.34</td>\n",
       "      <td>-6.1</td>\n",
       "      <td>-4.8</td>\n",
       "      <td>81.3</td>\n",
       "      <td>27.17</td>\n",
       "      <td>27.93</td>\n",
       "    </tr>\n",
       "    <tr>\n",
       "      <th>178078</th>\n",
       "      <td>1998-06-14</td>\n",
       "      <td>980614</td>\n",
       "      <td>8.96</td>\n",
       "      <td>-140.33</td>\n",
       "      <td>-4.9</td>\n",
       "      <td>-2.3</td>\n",
       "      <td>76.2</td>\n",
       "      <td>27.36</td>\n",
       "      <td>28.03</td>\n",
       "    </tr>\n",
       "  </tbody>\n",
       "</table>\n",
       "<p>93935 rows × 9 columns</p>\n",
       "</div>\n",
       "      <button class=\"colab-df-convert\" onclick=\"convertToInteractive('df-5d03f101-ebe0-497b-b72e-c1b0341445b6')\"\n",
       "              title=\"Convert this dataframe to an interactive table.\"\n",
       "              style=\"display:none;\">\n",
       "        \n",
       "  <svg xmlns=\"http://www.w3.org/2000/svg\" height=\"24px\"viewBox=\"0 0 24 24\"\n",
       "       width=\"24px\">\n",
       "    <path d=\"M0 0h24v24H0V0z\" fill=\"none\"/>\n",
       "    <path d=\"M18.56 5.44l.94 2.06.94-2.06 2.06-.94-2.06-.94-.94-2.06-.94 2.06-2.06.94zm-11 1L8.5 8.5l.94-2.06 2.06-.94-2.06-.94L8.5 2.5l-.94 2.06-2.06.94zm10 10l.94 2.06.94-2.06 2.06-.94-2.06-.94-.94-2.06-.94 2.06-2.06.94z\"/><path d=\"M17.41 7.96l-1.37-1.37c-.4-.4-.92-.59-1.43-.59-.52 0-1.04.2-1.43.59L10.3 9.45l-7.72 7.72c-.78.78-.78 2.05 0 2.83L4 21.41c.39.39.9.59 1.41.59.51 0 1.02-.2 1.41-.59l7.78-7.78 2.81-2.81c.8-.78.8-2.07 0-2.86zM5.41 20L4 18.59l7.72-7.72 1.47 1.35L5.41 20z\"/>\n",
       "  </svg>\n",
       "      </button>\n",
       "      \n",
       "  <style>\n",
       "    .colab-df-container {\n",
       "      display:flex;\n",
       "      flex-wrap:wrap;\n",
       "      gap: 12px;\n",
       "    }\n",
       "\n",
       "    .colab-df-convert {\n",
       "      background-color: #E8F0FE;\n",
       "      border: none;\n",
       "      border-radius: 50%;\n",
       "      cursor: pointer;\n",
       "      display: none;\n",
       "      fill: #1967D2;\n",
       "      height: 32px;\n",
       "      padding: 0 0 0 0;\n",
       "      width: 32px;\n",
       "    }\n",
       "\n",
       "    .colab-df-convert:hover {\n",
       "      background-color: #E2EBFA;\n",
       "      box-shadow: 0px 1px 2px rgba(60, 64, 67, 0.3), 0px 1px 3px 1px rgba(60, 64, 67, 0.15);\n",
       "      fill: #174EA6;\n",
       "    }\n",
       "\n",
       "    [theme=dark] .colab-df-convert {\n",
       "      background-color: #3B4455;\n",
       "      fill: #D2E3FC;\n",
       "    }\n",
       "\n",
       "    [theme=dark] .colab-df-convert:hover {\n",
       "      background-color: #434B5C;\n",
       "      box-shadow: 0px 1px 3px 1px rgba(0, 0, 0, 0.15);\n",
       "      filter: drop-shadow(0px 1px 2px rgba(0, 0, 0, 0.3));\n",
       "      fill: #FFFFFF;\n",
       "    }\n",
       "  </style>\n",
       "\n",
       "      <script>\n",
       "        const buttonEl =\n",
       "          document.querySelector('#df-5d03f101-ebe0-497b-b72e-c1b0341445b6 button.colab-df-convert');\n",
       "        buttonEl.style.display =\n",
       "          google.colab.kernel.accessAllowed ? 'block' : 'none';\n",
       "\n",
       "        async function convertToInteractive(key) {\n",
       "          const element = document.querySelector('#df-5d03f101-ebe0-497b-b72e-c1b0341445b6');\n",
       "          const dataTable =\n",
       "            await google.colab.kernel.invokeFunction('convertToInteractive',\n",
       "                                                     [key], {});\n",
       "          if (!dataTable) return;\n",
       "\n",
       "          const docLinkHtml = 'Like what you see? Visit the ' +\n",
       "            '<a target=\"_blank\" href=https://colab.research.google.com/notebooks/data_table.ipynb>data table notebook</a>'\n",
       "            + ' to learn more about interactive tables.';\n",
       "          element.innerHTML = '';\n",
       "          dataTable['output_type'] = 'display_data';\n",
       "          await google.colab.output.renderOutput(dataTable, element);\n",
       "          const docLink = document.createElement('div');\n",
       "          docLink.innerHTML = docLinkHtml;\n",
       "          element.appendChild(docLink);\n",
       "        }\n",
       "      </script>\n",
       "    </div>\n",
       "  </div>\n",
       "  "
      ],
      "text/plain": [
       "       Year_Month_Day    Date  Latitude  Longitude  Zonal Winds  \\\n",
       "4059       1993-05-09  930509     -0.02    -109.96         -2.1   \n",
       "4060       1993-05-10  930510     -0.02    -109.96         -3.4   \n",
       "4061       1993-05-11  930511     -0.02    -109.96         -3.8   \n",
       "4062       1993-05-12  930512     -0.02    -109.96         -3.0   \n",
       "4063       1993-05-13  930513     -0.02    -109.96         -4.5   \n",
       "...               ...     ...       ...        ...          ...   \n",
       "178074     1998-06-10  980610      8.95    -140.33         -6.8   \n",
       "178075     1998-06-11  980611      8.96    -140.33         -5.1   \n",
       "178076     1998-06-12  980612      8.96    -140.32         -4.3   \n",
       "178077     1998-06-13  980613      8.95    -140.34         -6.1   \n",
       "178078     1998-06-14  980614      8.96    -140.33         -4.9   \n",
       "\n",
       "        Meridional Winds  Humidity  Air Temp  Sea Surface Temp  \n",
       "4059                 2.1      81.2     26.80             27.02  \n",
       "4060                 1.4      84.2     26.95             26.91  \n",
       "4061                 2.2      84.9     26.98             26.78  \n",
       "4062                 1.5      86.9     26.93             26.74  \n",
       "4063                 1.9      87.6     27.01             26.82  \n",
       "...                  ...       ...       ...               ...  \n",
       "178074              -5.3      81.3     27.52             28.17  \n",
       "178075              -0.4      94.1     26.04             28.14  \n",
       "178076              -3.3      93.2     25.80             27.87  \n",
       "178077              -4.8      81.3     27.17             27.93  \n",
       "178078              -2.3      76.2     27.36             28.03  \n",
       "\n",
       "[93935 rows x 9 columns]"
      ]
     },
     "execution_count": 10,
     "metadata": {},
     "output_type": "execute_result"
    }
   ],
   "source": [
    "# remove rows that contain missing values\n",
    "nino = nino.dropna(axis=0)\n",
    "nino"
   ]
  },
  {
   "cell_type": "code",
   "execution_count": 11,
   "metadata": {
    "colab": {
     "base_uri": "https://localhost:8080/"
    },
    "executionInfo": {
     "elapsed": 139,
     "status": "ok",
     "timestamp": 1669751535583,
     "user": {
      "displayName": "Tejasri Pavuluri",
      "userId": "17831795534061040396"
     },
     "user_tz": 300
    },
    "id": "70syCs0l-GTK",
    "outputId": "e8cc8e91-e180-4ecc-e6c7-8dc830b8d5be"
   },
   "outputs": [
    {
     "data": {
      "text/plain": [
       "Date                0.052066\n",
       "Latitude            0.125119\n",
       "Longitude           0.304027\n",
       "Zonal Winds         0.376015\n",
       "Meridional Winds   -0.284897\n",
       "Humidity           -0.324348\n",
       "Air Temp            0.940233\n",
       "Sea Surface Temp    1.000000\n",
       "Name: Sea Surface Temp, dtype: float64"
      ]
     },
     "execution_count": 11,
     "metadata": {},
     "output_type": "execute_result"
    }
   ],
   "source": [
    "# Correlate sea surface temp with other variables\n",
    "nino.corr()['Sea Surface Temp']"
   ]
  },
  {
   "cell_type": "code",
   "execution_count": 12,
   "metadata": {
    "colab": {
     "base_uri": "https://localhost:8080/",
     "height": 514
    },
    "executionInfo": {
     "elapsed": 998,
     "status": "ok",
     "timestamp": 1669751538725,
     "user": {
      "displayName": "Tejasri Pavuluri",
      "userId": "17831795534061040396"
     },
     "user_tz": 300
    },
    "id": "mVMnOVR89hqT",
    "outputId": "a4170fb0-a383-4ef2-df93-bb8f1a05e631"
   },
   "outputs": [
    {
     "name": "stderr",
     "output_type": "stream",
     "text": [
      "/usr/local/lib/python3.7/dist-packages/seaborn/_decorators.py:43: FutureWarning: Pass the following variables as keyword args: x, y. From version 0.12, the only valid positional argument will be `data`, and passing other arguments without an explicit keyword will result in an error or misinterpretation.\n",
      "  FutureWarning\n"
     ]
    },
    {
     "data": {
      "text/plain": [
       "<matplotlib.axes._subplots.AxesSubplot at 0x7f050fc4aad0>"
      ]
     },
     "execution_count": 12,
     "metadata": {},
     "output_type": "execute_result"
    },
    {
     "data": {
      "image/png": "[encoded data removed]",
      "text/plain": [
       "<Figure size 576x504 with 1 Axes>"
      ]
     },
     "metadata": {},
     "output_type": "display_data"
    }
   ],
   "source": [
    "sns.set_style('whitegrid')\n",
    "plt.figure(figsize=(8,7))\n",
    "sns.scatterplot('Longitude', 'Latitude', data=nino, color='purple')"
   ]
  },
  {
   "cell_type": "code",
   "execution_count": 13,
   "metadata": {
    "colab": {
     "base_uri": "https://localhost:8080/"
    },
    "executionInfo": {
     "elapsed": 146,
     "status": "ok",
     "timestamp": 1669751541963,
     "user": {
      "displayName": "Tejasri Pavuluri",
      "userId": "17831795534061040396"
     },
     "user_tz": 300
    },
    "id": "E9MnYM7drt2r",
    "outputId": "d9befdf7-a43f-4722-a18b-7615ae2f77ee"
   },
   "outputs": [
    {
     "name": "stderr",
     "output_type": "stream",
     "text": [
      "/usr/local/lib/python3.7/dist-packages/pandas/core/frame.py:4913: SettingWithCopyWarning: \n",
      "A value is trying to be set on a copy of a slice from a DataFrame\n",
      "\n",
      "See the caveats in the documentation: https://pandas.pydata.org/pandas-docs/stable/user_guide/indexing.html#returning-a-view-versus-a-copy\n",
      "  errors=errors,\n"
     ]
    }
   ],
   "source": [
    "# Drop year-month-day and date columns from dataset\n",
    "nino.drop(columns=['Year_Month_Day', 'Date'], axis=0, inplace=True)"
   ]
  },
  {
   "cell_type": "code",
   "execution_count": 14,
   "metadata": {
    "colab": {
     "base_uri": "https://localhost:8080/",
     "height": 424
    },
    "executionInfo": {
     "elapsed": 147,
     "status": "ok",
     "timestamp": 1669751544058,
     "user": {
      "displayName": "Tejasri Pavuluri",
      "userId": "17831795534061040396"
     },
     "user_tz": 300
    },
    "id": "2F_8CCPetUeO",
    "outputId": "63007401-37f4-45bf-d0fd-47f304ac0859"
   },
   "outputs": [
    {
     "data": {
      "text/html": [
       "\n",
       "  <div id=\"df-984bb707-d71c-48d1-b3f8-0a51e7046e74\">\n",
       "    <div class=\"colab-df-container\">\n",
       "      <div>\n",
       "<style scoped>\n",
       "    .dataframe tbody tr th:only-of-type {\n",
       "        vertical-align: middle;\n",
       "    }\n",
       "\n",
       "    .dataframe tbody tr th {\n",
       "        vertical-align: top;\n",
       "    }\n",
       "\n",
       "    .dataframe thead th {\n",
       "        text-align: right;\n",
       "    }\n",
       "</style>\n",
       "<table border=\"1\" class=\"dataframe\">\n",
       "  <thead>\n",
       "    <tr style=\"text-align: right;\">\n",
       "      <th></th>\n",
       "      <th>Latitude</th>\n",
       "      <th>Longitude</th>\n",
       "      <th>Zonal Winds</th>\n",
       "      <th>Meridional Winds</th>\n",
       "      <th>Humidity</th>\n",
       "      <th>Air Temp</th>\n",
       "      <th>Sea Surface Temp</th>\n",
       "    </tr>\n",
       "  </thead>\n",
       "  <tbody>\n",
       "    <tr>\n",
       "      <th>4059</th>\n",
       "      <td>-0.02</td>\n",
       "      <td>-109.96</td>\n",
       "      <td>-2.1</td>\n",
       "      <td>2.1</td>\n",
       "      <td>81.2</td>\n",
       "      <td>26.80</td>\n",
       "      <td>27.02</td>\n",
       "    </tr>\n",
       "    <tr>\n",
       "      <th>4060</th>\n",
       "      <td>-0.02</td>\n",
       "      <td>-109.96</td>\n",
       "      <td>-3.4</td>\n",
       "      <td>1.4</td>\n",
       "      <td>84.2</td>\n",
       "      <td>26.95</td>\n",
       "      <td>26.91</td>\n",
       "    </tr>\n",
       "    <tr>\n",
       "      <th>4061</th>\n",
       "      <td>-0.02</td>\n",
       "      <td>-109.96</td>\n",
       "      <td>-3.8</td>\n",
       "      <td>2.2</td>\n",
       "      <td>84.9</td>\n",
       "      <td>26.98</td>\n",
       "      <td>26.78</td>\n",
       "    </tr>\n",
       "    <tr>\n",
       "      <th>4062</th>\n",
       "      <td>-0.02</td>\n",
       "      <td>-109.96</td>\n",
       "      <td>-3.0</td>\n",
       "      <td>1.5</td>\n",
       "      <td>86.9</td>\n",
       "      <td>26.93</td>\n",
       "      <td>26.74</td>\n",
       "    </tr>\n",
       "    <tr>\n",
       "      <th>4063</th>\n",
       "      <td>-0.02</td>\n",
       "      <td>-109.96</td>\n",
       "      <td>-4.5</td>\n",
       "      <td>1.9</td>\n",
       "      <td>87.6</td>\n",
       "      <td>27.01</td>\n",
       "      <td>26.82</td>\n",
       "    </tr>\n",
       "    <tr>\n",
       "      <th>...</th>\n",
       "      <td>...</td>\n",
       "      <td>...</td>\n",
       "      <td>...</td>\n",
       "      <td>...</td>\n",
       "      <td>...</td>\n",
       "      <td>...</td>\n",
       "      <td>...</td>\n",
       "    </tr>\n",
       "    <tr>\n",
       "      <th>178074</th>\n",
       "      <td>8.95</td>\n",
       "      <td>-140.33</td>\n",
       "      <td>-6.8</td>\n",
       "      <td>-5.3</td>\n",
       "      <td>81.3</td>\n",
       "      <td>27.52</td>\n",
       "      <td>28.17</td>\n",
       "    </tr>\n",
       "    <tr>\n",
       "      <th>178075</th>\n",
       "      <td>8.96</td>\n",
       "      <td>-140.33</td>\n",
       "      <td>-5.1</td>\n",
       "      <td>-0.4</td>\n",
       "      <td>94.1</td>\n",
       "      <td>26.04</td>\n",
       "      <td>28.14</td>\n",
       "    </tr>\n",
       "    <tr>\n",
       "      <th>178076</th>\n",
       "      <td>8.96</td>\n",
       "      <td>-140.32</td>\n",
       "      <td>-4.3</td>\n",
       "      <td>-3.3</td>\n",
       "      <td>93.2</td>\n",
       "      <td>25.80</td>\n",
       "      <td>27.87</td>\n",
       "    </tr>\n",
       "    <tr>\n",
       "      <th>178077</th>\n",
       "      <td>8.95</td>\n",
       "      <td>-140.34</td>\n",
       "      <td>-6.1</td>\n",
       "      <td>-4.8</td>\n",
       "      <td>81.3</td>\n",
       "      <td>27.17</td>\n",
       "      <td>27.93</td>\n",
       "    </tr>\n",
       "    <tr>\n",
       "      <th>178078</th>\n",
       "      <td>8.96</td>\n",
       "      <td>-140.33</td>\n",
       "      <td>-4.9</td>\n",
       "      <td>-2.3</td>\n",
       "      <td>76.2</td>\n",
       "      <td>27.36</td>\n",
       "      <td>28.03</td>\n",
       "    </tr>\n",
       "  </tbody>\n",
       "</table>\n",
       "<p>93935 rows × 7 columns</p>\n",
       "</div>\n",
       "      <button class=\"colab-df-convert\" onclick=\"convertToInteractive('df-984bb707-d71c-48d1-b3f8-0a51e7046e74')\"\n",
       "              title=\"Convert this dataframe to an interactive table.\"\n",
       "              style=\"display:none;\">\n",
       "        \n",
       "  <svg xmlns=\"http://www.w3.org/2000/svg\" height=\"24px\"viewBox=\"0 0 24 24\"\n",
       "       width=\"24px\">\n",
       "    <path d=\"M0 0h24v24H0V0z\" fill=\"none\"/>\n",
       "    <path d=\"M18.56 5.44l.94 2.06.94-2.06 2.06-.94-2.06-.94-.94-2.06-.94 2.06-2.06.94zm-11 1L8.5 8.5l.94-2.06 2.06-.94-2.06-.94L8.5 2.5l-.94 2.06-2.06.94zm10 10l.94 2.06.94-2.06 2.06-.94-2.06-.94-.94-2.06-.94 2.06-2.06.94z\"/><path d=\"M17.41 7.96l-1.37-1.37c-.4-.4-.92-.59-1.43-.59-.52 0-1.04.2-1.43.59L10.3 9.45l-7.72 7.72c-.78.78-.78 2.05 0 2.83L4 21.41c.39.39.9.59 1.41.59.51 0 1.02-.2 1.41-.59l7.78-7.78 2.81-2.81c.8-.78.8-2.07 0-2.86zM5.41 20L4 18.59l7.72-7.72 1.47 1.35L5.41 20z\"/>\n",
       "  </svg>\n",
       "      </button>\n",
       "      \n",
       "  <style>\n",
       "    .colab-df-container {\n",
       "      display:flex;\n",
       "      flex-wrap:wrap;\n",
       "      gap: 12px;\n",
       "    }\n",
       "\n",
       "    .colab-df-convert {\n",
       "      background-color: #E8F0FE;\n",
       "      border: none;\n",
       "      border-radius: 50%;\n",
       "      cursor: pointer;\n",
       "      display: none;\n",
       "      fill: #1967D2;\n",
       "      height: 32px;\n",
       "      padding: 0 0 0 0;\n",
       "      width: 32px;\n",
       "    }\n",
       "\n",
       "    .colab-df-convert:hover {\n",
       "      background-color: #E2EBFA;\n",
       "      box-shadow: 0px 1px 2px rgba(60, 64, 67, 0.3), 0px 1px 3px 1px rgba(60, 64, 67, 0.15);\n",
       "      fill: #174EA6;\n",
       "    }\n",
       "\n",
       "    [theme=dark] .colab-df-convert {\n",
       "      background-color: #3B4455;\n",
       "      fill: #D2E3FC;\n",
       "    }\n",
       "\n",
       "    [theme=dark] .colab-df-convert:hover {\n",
       "      background-color: #434B5C;\n",
       "      box-shadow: 0px 1px 3px 1px rgba(0, 0, 0, 0.15);\n",
       "      filter: drop-shadow(0px 1px 2px rgba(0, 0, 0, 0.3));\n",
       "      fill: #FFFFFF;\n",
       "    }\n",
       "  </style>\n",
       "\n",
       "      <script>\n",
       "        const buttonEl =\n",
       "          document.querySelector('#df-984bb707-d71c-48d1-b3f8-0a51e7046e74 button.colab-df-convert');\n",
       "        buttonEl.style.display =\n",
       "          google.colab.kernel.accessAllowed ? 'block' : 'none';\n",
       "\n",
       "        async function convertToInteractive(key) {\n",
       "          const element = document.querySelector('#df-984bb707-d71c-48d1-b3f8-0a51e7046e74');\n",
       "          const dataTable =\n",
       "            await google.colab.kernel.invokeFunction('convertToInteractive',\n",
       "                                                     [key], {});\n",
       "          if (!dataTable) return;\n",
       "\n",
       "          const docLinkHtml = 'Like what you see? Visit the ' +\n",
       "            '<a target=\"_blank\" href=https://colab.research.google.com/notebooks/data_table.ipynb>data table notebook</a>'\n",
       "            + ' to learn more about interactive tables.';\n",
       "          element.innerHTML = '';\n",
       "          dataTable['output_type'] = 'display_data';\n",
       "          await google.colab.output.renderOutput(dataTable, element);\n",
       "          const docLink = document.createElement('div');\n",
       "          docLink.innerHTML = docLinkHtml;\n",
       "          element.appendChild(docLink);\n",
       "        }\n",
       "      </script>\n",
       "    </div>\n",
       "  </div>\n",
       "  "
      ],
      "text/plain": [
       "        Latitude  Longitude  Zonal Winds  Meridional Winds  Humidity  \\\n",
       "4059       -0.02    -109.96         -2.1               2.1      81.2   \n",
       "4060       -0.02    -109.96         -3.4               1.4      84.2   \n",
       "4061       -0.02    -109.96         -3.8               2.2      84.9   \n",
       "4062       -0.02    -109.96         -3.0               1.5      86.9   \n",
       "4063       -0.02    -109.96         -4.5               1.9      87.6   \n",
       "...          ...        ...          ...               ...       ...   \n",
       "178074      8.95    -140.33         -6.8              -5.3      81.3   \n",
       "178075      8.96    -140.33         -5.1              -0.4      94.1   \n",
       "178076      8.96    -140.32         -4.3              -3.3      93.2   \n",
       "178077      8.95    -140.34         -6.1              -4.8      81.3   \n",
       "178078      8.96    -140.33         -4.9              -2.3      76.2   \n",
       "\n",
       "        Air Temp  Sea Surface Temp  \n",
       "4059       26.80             27.02  \n",
       "4060       26.95             26.91  \n",
       "4061       26.98             26.78  \n",
       "4062       26.93             26.74  \n",
       "4063       27.01             26.82  \n",
       "...          ...               ...  \n",
       "178074     27.52             28.17  \n",
       "178075     26.04             28.14  \n",
       "178076     25.80             27.87  \n",
       "178077     27.17             27.93  \n",
       "178078     27.36             28.03  \n",
       "\n",
       "[93935 rows x 7 columns]"
      ]
     },
     "execution_count": 14,
     "metadata": {},
     "output_type": "execute_result"
    }
   ],
   "source": [
    "nino"
   ]
  },
  {
   "cell_type": "markdown",
   "metadata": {
    "id": "w56qguf6jdZa"
   },
   "source": [
    "Predictive Models - Linear Regression, Ridge Regression and Knn and Decision Tree"
   ]
  },
  {
   "cell_type": "code",
   "execution_count": 15,
   "metadata": {
    "executionInfo": {
     "elapsed": 279,
     "status": "ok",
     "timestamp": 1669751547075,
     "user": {
      "displayName": "Tejasri Pavuluri",
      "userId": "17831795534061040396"
     },
     "user_tz": 300
    },
    "id": "JZDBl1B_nmsa"
   },
   "outputs": [],
   "source": [
    "from sklearn.model_selection import train_test_split\n",
    "from sklearn.model_selection import cross_validate\n",
    "from sklearn import metrics"
   ]
  },
  {
   "cell_type": "code",
   "execution_count": null,
   "metadata": {
    "id": "x0vS56gGn0se"
   },
   "outputs": [],
   "source": [
    "X=nino.drop('Sea Surface Temp', axis=1)\n",
    "y=nino['Sea Surface Temp']\n",
    "\n",
    "train_X, test_X, train_y, test_y = train_test_split(X, y, test_size=0.3, random_state=0)\n",
    "X"
   ]
  },
  {
   "cell_type": "code",
   "execution_count": 17,
   "metadata": {
    "executionInfo": {
     "elapsed": 122,
     "status": "ok",
     "timestamp": 1669751555812,
     "user": {
      "displayName": "Tejasri Pavuluri",
      "userId": "17831795534061040396"
     },
     "user_tz": 300
    },
    "id": "hQBvpBJaoL7Z"
   },
   "outputs": [],
   "source": [
    "# Define the a function, that can be called for all models\n",
    "def Predictive_Model(estimator):\n",
    "    estimator.fit(train_X, train_y)\n",
    "    prediction = estimator.predict(test_X)\n",
    "    print('R_squared:', metrics.r2_score(test_y, prediction))\n",
    "    print('Square Root of MSE:',np.sqrt(metrics.mean_squared_error(test_y, prediction)))\n",
    "    plt.figure(figsize=(10,5))\n",
    "    sns.distplot(test_y, hist=True, kde=False)\n",
    "    sns.distplot(prediction, hist=True, kde=False)\n",
    "    plt.legend(labels=['Actual Values of Price', 'Predicted Values of Price'])\n",
    "    plt.xlim(0,)"
   ]
  },
  {
   "cell_type": "code",
   "execution_count": 18,
   "metadata": {
    "executionInfo": {
     "elapsed": 397,
     "status": "ok",
     "timestamp": 1669751559409,
     "user": {
      "displayName": "Tejasri Pavuluri",
      "userId": "17831795534061040396"
     },
     "user_tz": 300
    },
    "id": "Y1r-kIXRoSk5"
   },
   "outputs": [],
   "source": [
    "# Function that defines magnitude of each coefficient\n",
    "def FeatureBar(model_Features, Title, yLabel):\n",
    "    plt.figure(figsize=(10,5))\n",
    "    plt.bar(nino.columns[nino.columns!='Sea Surface Temp'].values, model_Features)\n",
    "    plt.xticks(rotation=45)\n",
    "    plt.title(Title)\n",
    "    plt.ylabel(yLabel)"
   ]
  },
  {
   "cell_type": "markdown",
   "metadata": {
    "id": "2gBZp7T5oVGd"
   },
   "source": [
    "Basic Prediction - Linear Regression"
   ]
  },
  {
   "cell_type": "code",
   "execution_count": 19,
   "metadata": {
    "colab": {
     "base_uri": "https://localhost:8080/",
     "height": 425
    },
    "executionInfo": {
     "elapsed": 870,
     "status": "ok",
     "timestamp": 1669751562297,
     "user": {
      "displayName": "Tejasri Pavuluri",
      "userId": "17831795534061040396"
     },
     "user_tz": 300
    },
    "id": "AMNdViXAoTjI",
    "outputId": "df953b0b-9275-42dd-8124-8123596788cd"
   },
   "outputs": [
    {
     "name": "stdout",
     "output_type": "stream",
     "text": [
      "R_squared: 0.9120690361149137\n",
      "Square Root of MSE: 0.5524855619133298\n"
     ]
    },
    {
     "name": "stderr",
     "output_type": "stream",
     "text": [
      "/usr/local/lib/python3.7/dist-packages/seaborn/distributions.py:2619: FutureWarning: `distplot` is a deprecated function and will be removed in a future version. Please adapt your code to use either `displot` (a figure-level function with similar flexibility) or `histplot` (an axes-level function for histograms).\n",
      "  warnings.warn(msg, FutureWarning)\n"
     ]
    },
    {
     "data": {
      "image/png": "[encoded data removed]",
      "text/plain": [
       "<Figure size 720x360 with 1 Axes>"
      ]
     },
     "metadata": {},
     "output_type": "display_data"
    }
   ],
   "source": [
    "from sklearn.linear_model import LinearRegression\n",
    "lr = LinearRegression()\n",
    "Predictive_Model(lr)"
   ]
  },
  {
   "cell_type": "markdown",
   "metadata": {
    "id": "Q2dRUchCtzpA"
   },
   "source": [
    "The first one is the coefficient of determination, which is usually expressed as R². The coefficient of determination is the ratio of the variance of a target explained or predicted by a model over the total variance of the target. It ranges from 0 to 1, and as the value is closer to 1, the model explains or predicts the variance of the target better.\n",
    "\n",
    "The second metric is the Mean Squared Error(MSE). The MSE is the average of the squared difference between the estimated or predicted values and the actual values of a target. This is always greater than zero. A lower value of the MSE indicates higher accuracy of predictions of a model. In this analysis, I use the square root of this metric(RMSE)."
   ]
  },
  {
   "cell_type": "markdown",
   "metadata": {
    "id": "6REtumTJt1Hd"
   },
   "source": [
    "Linear regression - R² is 0.91 which means 91% of the sea surface temp can be predicted by the model. \n",
    "\n",
    "The RMSE is 0.55. This means that for all the predictions for the testing set, the average difference for each prediction is 0.55."
   ]
  },
  {
   "cell_type": "markdown",
   "metadata": {
    "id": "XtsjfvqoucEt"
   },
   "source": [
    "Each coefficient of the linear regression represents the magnitude of the impact of the feature on the target. The bar chart below shows the magnitudes for each coefficient in the model."
   ]
  },
  {
   "cell_type": "code",
   "execution_count": 20,
   "metadata": {
    "colab": {
     "base_uri": "https://localhost:8080/"
    },
    "executionInfo": {
     "elapsed": 132,
     "status": "ok",
     "timestamp": 1669751566475,
     "user": {
      "displayName": "Tejasri Pavuluri",
      "userId": "17831795534061040396"
     },
     "user_tz": 300
    },
    "id": "asjA3lNQumw0",
    "outputId": "92c258d1-4439-4d0d-cddd-1db500eb90c1"
   },
   "outputs": [
    {
     "data": {
      "text/plain": [
       "array([1.40829770e-02, 2.81570964e-04, 8.27624481e-02, 8.51693124e-03,\n",
       "       4.07947714e-03, 1.01363589e+00])"
      ]
     },
     "execution_count": 20,
     "metadata": {},
     "output_type": "execute_result"
    }
   ],
   "source": [
    "lr.coef_"
   ]
  },
  {
   "cell_type": "code",
   "execution_count": 21,
   "metadata": {
    "colab": {
     "base_uri": "https://localhost:8080/",
     "height": 394
    },
    "executionInfo": {
     "elapsed": 338,
     "status": "ok",
     "timestamp": 1669751568332,
     "user": {
      "displayName": "Tejasri Pavuluri",
      "userId": "17831795534061040396"
     },
     "user_tz": 300
    },
    "id": "TWDHAyVlua7r",
    "outputId": "c4b2bfe5-09ee-4906-f3fb-cc779e0000c0"
   },
   "outputs": [
    {
     "data": {
      "image/png": "[encoded data removed]",
      "text/plain": [
       "<Figure size 720x360 with 1 Axes>"
      ]
     },
     "metadata": {},
     "output_type": "display_data"
    }
   ],
   "source": [
    "# Use featurebar function and predict the magnitude of each coefficient in the model\n",
    "FeatureBar(lr.coef_, 'Feature Coefficients', 'Coefficients')"
   ]
  },
  {
   "cell_type": "markdown",
   "metadata": {
    "id": "C3IsJh40vNU-"
   },
   "source": [
    "The coefficients for - longitude, Meridional Winds and Humidity in the model have least impact on the sea surface temperature. \n",
    "\n",
    "Zonal Winds and Air temp have an impact in predicting sea surface temp."
   ]
  },
  {
   "cell_type": "markdown",
   "metadata": {
    "id": "hJ8YGTJJwTqg"
   },
   "source": [
    "kNN Regressor with k=5"
   ]
  },
  {
   "cell_type": "code",
   "execution_count": 22,
   "metadata": {
    "colab": {
     "base_uri": "https://localhost:8080/",
     "height": 423
    },
    "executionInfo": {
     "elapsed": 1364,
     "status": "ok",
     "timestamp": 1669751573376,
     "user": {
      "displayName": "Tejasri Pavuluri",
      "userId": "17831795534061040396"
     },
     "user_tz": 300
    },
    "id": "fE4hpjsvwXWq",
    "outputId": "7cdb60ba-f09a-4721-a262-039e88daf160"
   },
   "outputs": [
    {
     "name": "stdout",
     "output_type": "stream",
     "text": [
      "R_squared: 0.9358772601107423\n",
      "Square Root of MSE: 0.4717979523392589\n"
     ]
    },
    {
     "name": "stderr",
     "output_type": "stream",
     "text": [
      "/usr/local/lib/python3.7/dist-packages/seaborn/distributions.py:2619: FutureWarning: `distplot` is a deprecated function and will be removed in a future version. Please adapt your code to use either `displot` (a figure-level function with similar flexibility) or `histplot` (an axes-level function for histograms).\n",
      "  warnings.warn(msg, FutureWarning)\n"
     ]
    },
    {
     "data": {
      "image/png": "[encoded data removed]",
      "text/plain": [
       "<Figure size 720x360 with 1 Axes>"
      ]
     },
     "metadata": {},
     "output_type": "display_data"
    }
   ],
   "source": [
    "from sklearn.neighbors import KNeighborsRegressor\n",
    "knn = KNeighborsRegressor(n_neighbors=5)\n",
    "Predictive_Model(knn)"
   ]
  },
  {
   "cell_type": "markdown",
   "metadata": {
    "id": "UgKXHfcbw5E5"
   },
   "source": [
    "The KNN model makes predictions for the target using the target values of K-nearest neighbors. The result above is obtained with the number of the neighbors equal to 5. The R² of this model is 0.935, and the RMSE is 0.47.\n",
    "\n",
    "Compared to the distributions of the predicted values from linear and KNN model seems to predict the sea surface temp better."
   ]
  },
  {
   "cell_type": "markdown",
   "metadata": {
    "id": "C_T530rBxONM"
   },
   "source": [
    "Decision Tree Regressor"
   ]
  },
  {
   "cell_type": "code",
   "execution_count": 23,
   "metadata": {
    "colab": {
     "base_uri": "https://localhost:8080/",
     "height": 423
    },
    "executionInfo": {
     "elapsed": 1136,
     "status": "ok",
     "timestamp": 1669751578955,
     "user": {
      "displayName": "Tejasri Pavuluri",
      "userId": "17831795534061040396"
     },
     "user_tz": 300
    },
    "id": "trBkN1f9w3oM",
    "outputId": "c5690a68-a628-428e-9712-5847920a182a"
   },
   "outputs": [
    {
     "name": "stdout",
     "output_type": "stream",
     "text": [
      "R_squared: 0.9398155233088793\n",
      "Square Root of MSE: 0.4570800439883308\n"
     ]
    },
    {
     "name": "stderr",
     "output_type": "stream",
     "text": [
      "/usr/local/lib/python3.7/dist-packages/seaborn/distributions.py:2619: FutureWarning: `distplot` is a deprecated function and will be removed in a future version. Please adapt your code to use either `displot` (a figure-level function with similar flexibility) or `histplot` (an axes-level function for histograms).\n",
      "  warnings.warn(msg, FutureWarning)\n"
     ]
    },
    {
     "data": {
      "image/png": "[encoded data removed]",
      "text/plain": [
       "<Figure size 720x360 with 1 Axes>"
      ]
     },
     "metadata": {},
     "output_type": "display_data"
    }
   ],
   "source": [
    "from sklearn.tree import DecisionTreeRegressor\n",
    "dt = DecisionTreeRegressor(max_depth=15, random_state=0)\n",
    "Predictive_Model(dt)"
   ]
  },
  {
   "cell_type": "code",
   "execution_count": 24,
   "metadata": {
    "colab": {
     "base_uri": "https://localhost:8080/",
     "height": 394
    },
    "executionInfo": {
     "elapsed": 300,
     "status": "ok",
     "timestamp": 1669751582097,
     "user": {
      "displayName": "Tejasri Pavuluri",
      "userId": "17831795534061040396"
     },
     "user_tz": 300
    },
    "id": "oHkm2GydxaLD",
    "outputId": "e4362cb5-f569-48c1-92f7-f7e7280cd842"
   },
   "outputs": [
    {
     "data": {
      "image/png": "[encoded data removed]",
      "text/plain": [
       "<Figure size 720x360 with 1 Axes>"
      ]
     },
     "metadata": {},
     "output_type": "display_data"
    }
   ],
   "source": [
    "FeatureBar(dt.feature_importances_, 'Feature Importance', 'Importance')"
   ]
  },
  {
   "cell_type": "markdown",
   "metadata": {
    "id": "BPINC943yck2"
   },
   "source": [
    "The decision tree does not create any coefficients for the features used in the prediction. However, by calculating how much the mean squared error decreases by selecting a feature for splits, we can measure the importance of each feature in the decision tree model. \n",
    "\n",
    "In our dataset, air temp still appear to be most important in the predictions, and also noticed few other features like Longitude, Meridional Winds and Humidity to have a minute effect on sea surface temp."
   ]
  },
  {
   "cell_type": "markdown",
   "metadata": {
    "id": "H4pAX6bUzA7_"
   },
   "source": [
    "Performance Summary"
   ]
  },
  {
   "cell_type": "code",
   "execution_count": 25,
   "metadata": {
    "colab": {
     "base_uri": "https://localhost:8080/",
     "height": 161
    },
    "executionInfo": {
     "elapsed": 1771,
     "status": "ok",
     "timestamp": 1669751586899,
     "user": {
      "displayName": "Tejasri Pavuluri",
      "userId": "17831795534061040396"
     },
     "user_tz": 300
    },
    "id": "OvqcMXfJzDas",
    "outputId": "aa57e630-1ef6-4707-e03c-0e1bb2bf6312"
   },
   "outputs": [
    {
     "name": "stdout",
     "output_type": "stream",
     "text": [
      "Summary of Basic Results:\n"
     ]
    },
    {
     "data": {
      "text/html": [
       "\n",
       "  <div id=\"df-0b4c4f5d-290c-4a66-b822-be7e21264e68\">\n",
       "    <div class=\"colab-df-container\">\n",
       "      <div>\n",
       "<style scoped>\n",
       "    .dataframe tbody tr th:only-of-type {\n",
       "        vertical-align: middle;\n",
       "    }\n",
       "\n",
       "    .dataframe tbody tr th {\n",
       "        vertical-align: top;\n",
       "    }\n",
       "\n",
       "    .dataframe thead th {\n",
       "        text-align: right;\n",
       "    }\n",
       "</style>\n",
       "<table border=\"1\" class=\"dataframe\">\n",
       "  <thead>\n",
       "    <tr style=\"text-align: right;\">\n",
       "      <th></th>\n",
       "      <th>R squared</th>\n",
       "      <th>RMSE</th>\n",
       "    </tr>\n",
       "  </thead>\n",
       "  <tbody>\n",
       "    <tr>\n",
       "      <th>Linear Regression</th>\n",
       "      <td>0.912069</td>\n",
       "      <td>0.552486</td>\n",
       "    </tr>\n",
       "    <tr>\n",
       "      <th>KNN</th>\n",
       "      <td>0.935877</td>\n",
       "      <td>0.471798</td>\n",
       "    </tr>\n",
       "    <tr>\n",
       "      <th>Decision Tree</th>\n",
       "      <td>0.939816</td>\n",
       "      <td>0.457080</td>\n",
       "    </tr>\n",
       "  </tbody>\n",
       "</table>\n",
       "</div>\n",
       "      <button class=\"colab-df-convert\" onclick=\"convertToInteractive('df-0b4c4f5d-290c-4a66-b822-be7e21264e68')\"\n",
       "              title=\"Convert this dataframe to an interactive table.\"\n",
       "              style=\"display:none;\">\n",
       "        \n",
       "  <svg xmlns=\"http://www.w3.org/2000/svg\" height=\"24px\"viewBox=\"0 0 24 24\"\n",
       "       width=\"24px\">\n",
       "    <path d=\"M0 0h24v24H0V0z\" fill=\"none\"/>\n",
       "    <path d=\"M18.56 5.44l.94 2.06.94-2.06 2.06-.94-2.06-.94-.94-2.06-.94 2.06-2.06.94zm-11 1L8.5 8.5l.94-2.06 2.06-.94-2.06-.94L8.5 2.5l-.94 2.06-2.06.94zm10 10l.94 2.06.94-2.06 2.06-.94-2.06-.94-.94-2.06-.94 2.06-2.06.94z\"/><path d=\"M17.41 7.96l-1.37-1.37c-.4-.4-.92-.59-1.43-.59-.52 0-1.04.2-1.43.59L10.3 9.45l-7.72 7.72c-.78.78-.78 2.05 0 2.83L4 21.41c.39.39.9.59 1.41.59.51 0 1.02-.2 1.41-.59l7.78-7.78 2.81-2.81c.8-.78.8-2.07 0-2.86zM5.41 20L4 18.59l7.72-7.72 1.47 1.35L5.41 20z\"/>\n",
       "  </svg>\n",
       "      </button>\n",
       "      \n",
       "  <style>\n",
       "    .colab-df-container {\n",
       "      display:flex;\n",
       "      flex-wrap:wrap;\n",
       "      gap: 12px;\n",
       "    }\n",
       "\n",
       "    .colab-df-convert {\n",
       "      background-color: #E8F0FE;\n",
       "      border: none;\n",
       "      border-radius: 50%;\n",
       "      cursor: pointer;\n",
       "      display: none;\n",
       "      fill: #1967D2;\n",
       "      height: 32px;\n",
       "      padding: 0 0 0 0;\n",
       "      width: 32px;\n",
       "    }\n",
       "\n",
       "    .colab-df-convert:hover {\n",
       "      background-color: #E2EBFA;\n",
       "      box-shadow: 0px 1px 2px rgba(60, 64, 67, 0.3), 0px 1px 3px 1px rgba(60, 64, 67, 0.15);\n",
       "      fill: #174EA6;\n",
       "    }\n",
       "\n",
       "    [theme=dark] .colab-df-convert {\n",
       "      background-color: #3B4455;\n",
       "      fill: #D2E3FC;\n",
       "    }\n",
       "\n",
       "    [theme=dark] .colab-df-convert:hover {\n",
       "      background-color: #434B5C;\n",
       "      box-shadow: 0px 1px 3px 1px rgba(0, 0, 0, 0.15);\n",
       "      filter: drop-shadow(0px 1px 2px rgba(0, 0, 0, 0.3));\n",
       "      fill: #FFFFFF;\n",
       "    }\n",
       "  </style>\n",
       "\n",
       "      <script>\n",
       "        const buttonEl =\n",
       "          document.querySelector('#df-0b4c4f5d-290c-4a66-b822-be7e21264e68 button.colab-df-convert');\n",
       "        buttonEl.style.display =\n",
       "          google.colab.kernel.accessAllowed ? 'block' : 'none';\n",
       "\n",
       "        async function convertToInteractive(key) {\n",
       "          const element = document.querySelector('#df-0b4c4f5d-290c-4a66-b822-be7e21264e68');\n",
       "          const dataTable =\n",
       "            await google.colab.kernel.invokeFunction('convertToInteractive',\n",
       "                                                     [key], {});\n",
       "          if (!dataTable) return;\n",
       "\n",
       "          const docLinkHtml = 'Like what you see? Visit the ' +\n",
       "            '<a target=\"_blank\" href=https://colab.research.google.com/notebooks/data_table.ipynb>data table notebook</a>'\n",
       "            + ' to learn more about interactive tables.';\n",
       "          element.innerHTML = '';\n",
       "          dataTable['output_type'] = 'display_data';\n",
       "          await google.colab.output.renderOutput(dataTable, element);\n",
       "          const docLink = document.createElement('div');\n",
       "          docLink.innerHTML = docLinkHtml;\n",
       "          element.appendChild(docLink);\n",
       "        }\n",
       "      </script>\n",
       "    </div>\n",
       "  </div>\n",
       "  "
      ],
      "text/plain": [
       "                   R squared      RMSE\n",
       "Linear Regression   0.912069  0.552486\n",
       "KNN                 0.935877  0.471798\n",
       "Decision Tree       0.939816  0.457080"
      ]
     },
     "execution_count": 25,
     "metadata": {},
     "output_type": "execute_result"
    }
   ],
   "source": [
    "regressor = ['Linear Regression', 'KNN', 'Decision Tree']\n",
    "models = [LinearRegression(), KNeighborsRegressor(n_neighbors=5), DecisionTreeRegressor(max_depth=15, random_state=0)]\n",
    "R_squared = []\n",
    "RMSE = []\n",
    "for m in models:\n",
    "    m.fit(train_X, train_y)\n",
    "    prediction_m = m.predict(test_X)\n",
    "    r2 = metrics.r2_score(test_y, prediction_m)\n",
    "    rmse = np.sqrt(metrics.mean_squared_error(test_y, prediction_m))\n",
    "    R_squared.append(r2)\n",
    "    RMSE.append(rmse)\n",
    "basic_result = pd.DataFrame({'R squared':R_squared,'RMSE':RMSE}, index=regressor)\n",
    "print(\"Summary of Basic Results:\")\n",
    "basic_result"
   ]
  },
  {
   "cell_type": "markdown",
   "metadata": {
    "id": "EOHiiAeuzP0C"
   },
   "source": [
    "In the table above, the *Decision Tree* seems to be the optimal model to predict the Sea Surface Temp in Pacific Ocean. However, it is too early to make a conclusion since there are more things to be considered. \n",
    "\n",
    "The first is that we use only one specific selection of a training and testing sets, and the second is that for each model we chose one specific value for each hyper parameter. Since the values were chosen arbitrarily for the hyper parameters, the results can vary according to what values we choose for those parameters.\n",
    "\n",
    "To get a robust result covering these issues, we need to go through the cross validation and grid search process as well."
   ]
  },
  {
   "cell_type": "markdown",
   "metadata": {
    "id": "eErz1y-Izlid"
   },
   "source": [
    "### Cross Validation and Grid Search\n",
    "Linear Regression"
   ]
  },
  {
   "cell_type": "code",
   "execution_count": 26,
   "metadata": {
    "executionInfo": {
     "elapsed": 164,
     "status": "ok",
     "timestamp": 1669751600074,
     "user": {
      "displayName": "Tejasri Pavuluri",
      "userId": "17831795534061040396"
     },
     "user_tz": 300
    },
    "id": "LGNqRk22zoJv"
   },
   "outputs": [],
   "source": [
    "scoring={'R_squared':'r2', 'Square Root of MSE': 'neg_mean_squared_error'}"
   ]
  },
  {
   "cell_type": "code",
   "execution_count": 27,
   "metadata": {
    "executionInfo": {
     "elapsed": 156,
     "status": "ok",
     "timestamp": 1669751601859,
     "user": {
      "displayName": "Tejasri Pavuluri",
      "userId": "17831795534061040396"
     },
     "user_tz": 300
    },
    "id": "sG1oJMqBzs4M"
   },
   "outputs": [],
   "source": [
    "def CrossVal(estimator):\n",
    "    scores = cross_validate(estimator, X, y, cv=5, scoring=scoring)\n",
    "    r2 = scores['test_R_squared'].mean()\n",
    "    mse = abs(scores['test_Square Root of MSE'].mean())\n",
    "    print('R_squared:', r2)\n",
    "    print('Square Root of MSE:', np.sqrt(mse))"
   ]
  },
  {
   "cell_type": "code",
   "execution_count": 28,
   "metadata": {
    "colab": {
     "base_uri": "https://localhost:8080/"
    },
    "executionInfo": {
     "elapsed": 322,
     "status": "ok",
     "timestamp": 1669751603922,
     "user": {
      "displayName": "Tejasri Pavuluri",
      "userId": "17831795534061040396"
     },
     "user_tz": 300
    },
    "id": "pflwHH-gzvLG",
    "outputId": "f9aa56ea-f890-4dc3-ac1e-bb0e2a3a9301"
   },
   "outputs": [
    {
     "name": "stdout",
     "output_type": "stream",
     "text": [
      "R_squared: 0.8991446822431355\n",
      "Square Root of MSE: 0.5682419569232426\n"
     ]
    }
   ],
   "source": [
    "CrossVal(LinearRegression())"
   ]
  },
  {
   "cell_type": "markdown",
   "metadata": {
    "id": "2ltMrC52z-nH"
   },
   "source": [
    "Since the linear regression does not have any hyper parameter in our analysis, only CV is performed here. The number of the folds in the CV is set to be 5. The average of the R² is 0.89 and the RMSE is 0.56"
   ]
  },
  {
   "cell_type": "markdown",
   "metadata": {
    "id": "KYoIdCAb0N4f"
   },
   "source": [
    "K-Nearest Neighbors:\n",
    "The hyper parameter for KNN we use in this analysis is the number of the nearest neighbors(n_neighbors). The range for the grid is the integers from 5 to 10."
   ]
  },
  {
   "cell_type": "markdown",
   "metadata": {
    "id": "atqiDFij0hDg"
   },
   "source": [
    "Since GridSearchCV in sklearn includes the process of the Cross Validation, the process of performing cross_validate is omitted. "
   ]
  },
  {
   "cell_type": "code",
   "execution_count": 29,
   "metadata": {
    "executionInfo": {
     "elapsed": 124,
     "status": "ok",
     "timestamp": 1669751608353,
     "user": {
      "displayName": "Tejasri Pavuluri",
      "userId": "17831795534061040396"
     },
     "user_tz": 300
    },
    "id": "kDiVn__X0Xam"
   },
   "outputs": [],
   "source": [
    "# Create a grid search function that takes in the estimator, features and parameters\n",
    "from sklearn.model_selection import GridSearchCV\n",
    "\n",
    "def GridSearch(estimator, Features, Target, param_grid):\n",
    "    for key, value in scoring.items():\n",
    "        grid = GridSearchCV(estimator, param_grid, cv=10, scoring=value)\n",
    "        grid.fit(Features,Target)\n",
    "        print(key)\n",
    "        print('The Best Parameter:', grid.best_params_)\n",
    "        if grid.best_score_ > 0:\n",
    "            print('The Score:', grid.best_score_)\n",
    "        else:\n",
    "            print('The Score:', np.sqrt(abs(grid.best_score_)))\n",
    "        print()"
   ]
  },
  {
   "cell_type": "code",
   "execution_count": 30,
   "metadata": {
    "colab": {
     "base_uri": "https://localhost:8080/"
    },
    "executionInfo": {
     "elapsed": 176811,
     "status": "ok",
     "timestamp": 1669751792344,
     "user": {
      "displayName": "Tejasri Pavuluri",
      "userId": "17831795534061040396"
     },
     "user_tz": 300
    },
    "id": "J4mUcWSt0RRH",
    "outputId": "73fe22c5-2409-4ca5-d7aa-b760d75f005c"
   },
   "outputs": [
    {
     "name": "stdout",
     "output_type": "stream",
     "text": [
      "R_squared\n",
      "The Best Parameter: {'n_neighbors': 16}\n",
      "The Score: 0.8510733582554536\n",
      "\n",
      "Square Root of MSE\n",
      "The Best Parameter: {'n_neighbors': 16}\n",
      "The Score: 0.6009227105104002\n",
      "\n"
     ]
    }
   ],
   "source": [
    "param_grid = dict(n_neighbors=np.arange(5,26))\n",
    "\n",
    "GridSearch(KNeighborsRegressor(), X, y, param_grid)"
   ]
  },
  {
   "cell_type": "markdown",
   "metadata": {
    "id": "2Ro5zMhixlJ2"
   },
   "source": [
    "The optimal number of n_neighbors is 16. The R² is 0.851 and the RMSE is 0.6. We can see how 16 is the optimal value for n_neighbors in our analysis by looking at the Validation Curve."
   ]
  },
  {
   "cell_type": "code",
   "execution_count": 35,
   "metadata": {
    "executionInfo": {
     "elapsed": 173,
     "status": "ok",
     "timestamp": 1669752186267,
     "user": {
      "displayName": "Tejasri Pavuluri",
      "userId": "17831795534061040396"
     },
     "user_tz": 300
    },
    "id": "lMwom_Pl1ego"
   },
   "outputs": [],
   "source": [
    "from sklearn.model_selection import validation_curve\n",
    "\n",
    "def ValidationCurve(estimator, Features, Target, param_name, Name_of_HyperParameter, param_range):\n",
    "    \n",
    "    train_score, test_score = validation_curve(estimator, Features, Target, param_name=param_name, param_range= param_range,cv=10,scoring='r2')\n",
    "    Rsquared_train = train_score.mean(axis=1)\n",
    "    Rsquared_test= test_score.mean(axis=1)\n",
    "    \n",
    "    plt.figure(figsize=(10,5))\n",
    "    plt.plot(param_range, Rsquared_train, color='r', linestyle='-', marker='o', label='Training Set')\n",
    "    plt.plot(param_range, Rsquared_test, color='b', linestyle='-', marker='x', label='Testing Set')\n",
    "    plt.legend(labels=['Training Set', 'Testing Set'])\n",
    "    plt.xlabel(Name_of_HyperParameter)\n",
    "    plt.ylabel('R_squared')"
   ]
  },
  {
   "cell_type": "code",
   "execution_count": 36,
   "metadata": {
    "colab": {
     "base_uri": "https://localhost:8080/",
     "height": 335
    },
    "executionInfo": {
     "elapsed": 457617,
     "status": "ok",
     "timestamp": 1669752645762,
     "user": {
      "displayName": "Tejasri Pavuluri",
      "userId": "17831795534061040396"
     },
     "user_tz": 300
    },
    "id": "fPvRYSUix3HS",
    "outputId": "1855f0b4-9e46-499b-dbe0-b6c1204a208b"
   },
   "outputs": [
    {
     "data": {
      "image/png": "[encoded data removed]",
      "text/plain": [
       "<Figure size 720x360 with 1 Axes>"
      ]
     },
     "metadata": {},
     "output_type": "display_data"
    }
   ],
   "source": [
    "# KNN Validation Curve\n",
    "ValidationCurve(KNeighborsRegressor(), X, y, param_name='n_neighbors', Name_of_HyperParameter='K_Neighbors', param_range = np.arange(5,26), )"
   ]
  },
  {
   "cell_type": "markdown",
   "metadata": {
    "id": "p1mLAf4L2cgl"
   },
   "source": [
    "Decision Tree - hyper parameters selection"
   ]
  },
  {
   "cell_type": "code",
   "execution_count": 37,
   "metadata": {
    "colab": {
     "base_uri": "https://localhost:8080/"
    },
    "executionInfo": {
     "elapsed": 64521,
     "status": "ok",
     "timestamp": 1669752736290,
     "user": {
      "displayName": "Tejasri Pavuluri",
      "userId": "17831795534061040396"
     },
     "user_tz": 300
    },
    "id": "Xa_TWLY22gts",
    "outputId": "af9fbe07-8716-4ee5-827b-f17b20d50041"
   },
   "outputs": [
    {
     "name": "stdout",
     "output_type": "stream",
     "text": [
      "R_squared\n",
      "The Best Parameter: {'max_depth': 9}\n",
      "The Score: 0.8887238489659964\n",
      "\n",
      "Square Root of MSE\n",
      "The Best Parameter: {'max_depth': 9}\n",
      "The Score: 0.5163982264777722\n",
      "\n"
     ]
    }
   ],
   "source": [
    "param_grid=dict(max_depth=np.arange(2,15))\n",
    "\n",
    "GridSearch(DecisionTreeRegressor(random_state=0), X, y, param_grid)"
   ]
  },
  {
   "cell_type": "markdown",
   "metadata": {
    "id": "ed6S7_j4D3Nz"
   },
   "source": [
    "The result indicates that the optimal value for the max_depth is 9. The R² is 0.88 and the RMSE is 0.51 under max_depth=9. \n",
    "\n",
    "Let's draw the validation curve."
   ]
  },
  {
   "cell_type": "code",
   "execution_count": 38,
   "metadata": {
    "colab": {
     "base_uri": "https://localhost:8080/",
     "height": 334
    },
    "executionInfo": {
     "elapsed": 32733,
     "status": "ok",
     "timestamp": 1669753450354,
     "user": {
      "displayName": "Tejasri Pavuluri",
      "userId": "17831795534061040396"
     },
     "user_tz": 300
    },
    "id": "oiOCKo-rEJGV",
    "outputId": "b17ecb85-04c8-41d6-ae42-82273480e6aa"
   },
   "outputs": [
    {
     "data": {
      "image/png": "[encoded data removed]",
      "text/plain": [
       "<Figure size 720x360 with 1 Axes>"
      ]
     },
     "metadata": {},
     "output_type": "display_data"
    }
   ],
   "source": [
    "# Decision Tree Regressor - Validation Curev\n",
    "\n",
    "ValidationCurve(DecisionTreeRegressor(random_state=0), X, y, param_name='max_depth', \n",
    "                Name_of_HyperParameter='Maximum Depth', param_range = np.arange(2,15), )"
   ]
  },
  {
   "cell_type": "markdown",
   "metadata": {
    "id": "HYiKevpW23vj"
   },
   "source": [
    "## Cross Validation Summary\n",
    "\n",
    "Now that we have the hyperparameters for knn and decision tree we can summarize the cross validation table.\n",
    "The table and the graphs below shows the scores of the R² for each round of testing in CV. Since cv is set to be 10, we have 10 rounds of testings.\n"
   ]
  },
  {
   "cell_type": "code",
   "execution_count": 39,
   "metadata": {
    "colab": {
     "base_uri": "https://localhost:8080/",
     "height": 394
    },
    "executionInfo": {
     "elapsed": 7650,
     "status": "ok",
     "timestamp": 1669753688860,
     "user": {
      "displayName": "Tejasri Pavuluri",
      "userId": "17831795534061040396"
     },
     "user_tz": 300
    },
    "id": "RBLGv0zV25z8",
    "outputId": "32d0f021-8a3a-4b89-d4d3-dc858586f929"
   },
   "outputs": [
    {
     "data": {
      "text/html": [
       "\n",
       "  <div id=\"df-49d360d0-fa59-4282-b36b-869a9cd97b81\">\n",
       "    <div class=\"colab-df-container\">\n",
       "      <div>\n",
       "<style scoped>\n",
       "    .dataframe tbody tr th:only-of-type {\n",
       "        vertical-align: middle;\n",
       "    }\n",
       "\n",
       "    .dataframe tbody tr th {\n",
       "        vertical-align: top;\n",
       "    }\n",
       "\n",
       "    .dataframe thead th {\n",
       "        text-align: right;\n",
       "    }\n",
       "</style>\n",
       "<table border=\"1\" class=\"dataframe\">\n",
       "  <thead>\n",
       "    <tr style=\"text-align: right;\">\n",
       "      <th></th>\n",
       "      <th>Linear Regression</th>\n",
       "      <th>K-Nearest Neighbors</th>\n",
       "      <th>Decision Tree</th>\n",
       "    </tr>\n",
       "  </thead>\n",
       "  <tbody>\n",
       "    <tr>\n",
       "      <th>1</th>\n",
       "      <td>0.938738</td>\n",
       "      <td>0.916592</td>\n",
       "      <td>0.937776</td>\n",
       "    </tr>\n",
       "    <tr>\n",
       "      <th>2</th>\n",
       "      <td>0.931256</td>\n",
       "      <td>0.915346</td>\n",
       "      <td>0.934679</td>\n",
       "    </tr>\n",
       "    <tr>\n",
       "      <th>3</th>\n",
       "      <td>0.844145</td>\n",
       "      <td>0.841111</td>\n",
       "      <td>0.877514</td>\n",
       "    </tr>\n",
       "    <tr>\n",
       "      <th>4</th>\n",
       "      <td>0.909687</td>\n",
       "      <td>0.861453</td>\n",
       "      <td>0.917183</td>\n",
       "    </tr>\n",
       "    <tr>\n",
       "      <th>5</th>\n",
       "      <td>0.932827</td>\n",
       "      <td>0.935987</td>\n",
       "      <td>0.953179</td>\n",
       "    </tr>\n",
       "    <tr>\n",
       "      <th>6</th>\n",
       "      <td>0.639539</td>\n",
       "      <td>0.616568</td>\n",
       "      <td>0.705168</td>\n",
       "    </tr>\n",
       "    <tr>\n",
       "      <th>7</th>\n",
       "      <td>0.896386</td>\n",
       "      <td>0.861955</td>\n",
       "      <td>0.908387</td>\n",
       "    </tr>\n",
       "    <tr>\n",
       "      <th>8</th>\n",
       "      <td>0.890099</td>\n",
       "      <td>0.912355</td>\n",
       "      <td>0.931939</td>\n",
       "    </tr>\n",
       "    <tr>\n",
       "      <th>9</th>\n",
       "      <td>0.781909</td>\n",
       "      <td>0.743892</td>\n",
       "      <td>0.804713</td>\n",
       "    </tr>\n",
       "    <tr>\n",
       "      <th>10</th>\n",
       "      <td>0.892075</td>\n",
       "      <td>0.905474</td>\n",
       "      <td>0.916700</td>\n",
       "    </tr>\n",
       "    <tr>\n",
       "      <th>Mean</th>\n",
       "      <td>0.865666</td>\n",
       "      <td>0.851073</td>\n",
       "      <td>0.888724</td>\n",
       "    </tr>\n",
       "  </tbody>\n",
       "</table>\n",
       "</div>\n",
       "      <button class=\"colab-df-convert\" onclick=\"convertToInteractive('df-49d360d0-fa59-4282-b36b-869a9cd97b81')\"\n",
       "              title=\"Convert this dataframe to an interactive table.\"\n",
       "              style=\"display:none;\">\n",
       "        \n",
       "  <svg xmlns=\"http://www.w3.org/2000/svg\" height=\"24px\"viewBox=\"0 0 24 24\"\n",
       "       width=\"24px\">\n",
       "    <path d=\"M0 0h24v24H0V0z\" fill=\"none\"/>\n",
       "    <path d=\"M18.56 5.44l.94 2.06.94-2.06 2.06-.94-2.06-.94-.94-2.06-.94 2.06-2.06.94zm-11 1L8.5 8.5l.94-2.06 2.06-.94-2.06-.94L8.5 2.5l-.94 2.06-2.06.94zm10 10l.94 2.06.94-2.06 2.06-.94-2.06-.94-.94-2.06-.94 2.06-2.06.94z\"/><path d=\"M17.41 7.96l-1.37-1.37c-.4-.4-.92-.59-1.43-.59-.52 0-1.04.2-1.43.59L10.3 9.45l-7.72 7.72c-.78.78-.78 2.05 0 2.83L4 21.41c.39.39.9.59 1.41.59.51 0 1.02-.2 1.41-.59l7.78-7.78 2.81-2.81c.8-.78.8-2.07 0-2.86zM5.41 20L4 18.59l7.72-7.72 1.47 1.35L5.41 20z\"/>\n",
       "  </svg>\n",
       "      </button>\n",
       "      \n",
       "  <style>\n",
       "    .colab-df-container {\n",
       "      display:flex;\n",
       "      flex-wrap:wrap;\n",
       "      gap: 12px;\n",
       "    }\n",
       "\n",
       "    .colab-df-convert {\n",
       "      background-color: #E8F0FE;\n",
       "      border: none;\n",
       "      border-radius: 50%;\n",
       "      cursor: pointer;\n",
       "      display: none;\n",
       "      fill: #1967D2;\n",
       "      height: 32px;\n",
       "      padding: 0 0 0 0;\n",
       "      width: 32px;\n",
       "    }\n",
       "\n",
       "    .colab-df-convert:hover {\n",
       "      background-color: #E2EBFA;\n",
       "      box-shadow: 0px 1px 2px rgba(60, 64, 67, 0.3), 0px 1px 3px 1px rgba(60, 64, 67, 0.15);\n",
       "      fill: #174EA6;\n",
       "    }\n",
       "\n",
       "    [theme=dark] .colab-df-convert {\n",
       "      background-color: #3B4455;\n",
       "      fill: #D2E3FC;\n",
       "    }\n",
       "\n",
       "    [theme=dark] .colab-df-convert:hover {\n",
       "      background-color: #434B5C;\n",
       "      box-shadow: 0px 1px 3px 1px rgba(0, 0, 0, 0.15);\n",
       "      filter: drop-shadow(0px 1px 2px rgba(0, 0, 0, 0.3));\n",
       "      fill: #FFFFFF;\n",
       "    }\n",
       "  </style>\n",
       "\n",
       "      <script>\n",
       "        const buttonEl =\n",
       "          document.querySelector('#df-49d360d0-fa59-4282-b36b-869a9cd97b81 button.colab-df-convert');\n",
       "        buttonEl.style.display =\n",
       "          google.colab.kernel.accessAllowed ? 'block' : 'none';\n",
       "\n",
       "        async function convertToInteractive(key) {\n",
       "          const element = document.querySelector('#df-49d360d0-fa59-4282-b36b-869a9cd97b81');\n",
       "          const dataTable =\n",
       "            await google.colab.kernel.invokeFunction('convertToInteractive',\n",
       "                                                     [key], {});\n",
       "          if (!dataTable) return;\n",
       "\n",
       "          const docLinkHtml = 'Like what you see? Visit the ' +\n",
       "            '<a target=\"_blank\" href=https://colab.research.google.com/notebooks/data_table.ipynb>data table notebook</a>'\n",
       "            + ' to learn more about interactive tables.';\n",
       "          element.innerHTML = '';\n",
       "          dataTable['output_type'] = 'display_data';\n",
       "          await google.colab.output.renderOutput(dataTable, element);\n",
       "          const docLink = document.createElement('div');\n",
       "          docLink.innerHTML = docLinkHtml;\n",
       "          element.appendChild(docLink);\n",
       "        }\n",
       "      </script>\n",
       "    </div>\n",
       "  </div>\n",
       "  "
      ],
      "text/plain": [
       "      Linear Regression  K-Nearest Neighbors  Decision Tree\n",
       "1              0.938738             0.916592       0.937776\n",
       "2              0.931256             0.915346       0.934679\n",
       "3              0.844145             0.841111       0.877514\n",
       "4              0.909687             0.861453       0.917183\n",
       "5              0.932827             0.935987       0.953179\n",
       "6              0.639539             0.616568       0.705168\n",
       "7              0.896386             0.861955       0.908387\n",
       "8              0.890099             0.912355       0.931939\n",
       "9              0.781909             0.743892       0.804713\n",
       "10             0.892075             0.905474       0.916700\n",
       "Mean           0.865666             0.851073       0.888724"
      ]
     },
     "execution_count": 39,
     "metadata": {},
     "output_type": "execute_result"
    }
   ],
   "source": [
    "# Table - with same cv=10\n",
    "lr_scores = cross_validate(LinearRegression(), X, y, cv=10, scoring='r2')\n",
    "knn_scores = cross_validate(KNeighborsRegressor(n_neighbors=16), X, y, cv=10, scoring='r2')\n",
    "dt_scores = cross_validate(DecisionTreeRegressor(max_depth=9, random_state=0), X, y, cv=10, scoring='r2')\n",
    "\n",
    "lr_test_score = lr_scores.get('test_score')\n",
    "knn_test_score = knn_scores.get('test_score')\n",
    "dt_test_score = dt_scores.get('test_score')\n",
    "\n",
    "box= pd.DataFrame({'Linear Regression':lr_test_score, 'K-Nearest Neighbors':knn_test_score, 'Decision Tree':dt_test_score})\n",
    "box.index = box.index + 1\n",
    "box.loc['Mean'] = box.mean()\n",
    "box"
   ]
  },
  {
   "cell_type": "markdown",
   "metadata": {
    "id": "nszeuJr_4AZP"
   },
   "source": [
    "According to the result in the table, the best machine learning model in our analysis is the DECISION TREE since the mean of the scores for each round is the highest."
   ]
  },
  {
   "cell_type": "code",
   "execution_count": null,
   "metadata": {
    "colab": {
     "base_uri": "https://localhost:8080/",
     "height": 405
    },
    "executionInfo": {
     "elapsed": 1195,
     "status": "ok",
     "timestamp": 1668659849649,
     "user": {
      "displayName": "Tejasri Pavuluri",
      "userId": "17831795534061040396"
     },
     "user_tz": 300
    },
    "id": "TyFOwz_u4IhJ",
    "outputId": "b275958f-4a8d-41c0-a0a8-9b4838c966f4"
   },
   "outputs": [
    {
     "data": {
      "text/plain": [
       "Text(0.5, 0, 'K-th Fold')"
      ]
     },
     "execution_count": 80,
     "metadata": {},
     "output_type": "execute_result"
    },
    {
     "data": {
      "image/png": "[encoded data removed]",
      "text/plain": [
       "<Figure size 1008x432 with 2 Axes>"
      ]
     },
     "metadata": {},
     "output_type": "display_data"
    }
   ],
   "source": [
    "f,ax=plt.subplots(1,2, figsize=(14,6))\n",
    "\n",
    "sns.boxplot(data=box.drop(box.tail(1).index), width=0.3, palette=\"Set2\", ax=ax[0])\n",
    "ax[0].set_ylabel('R squared')\n",
    "\n",
    "sns.lineplot(data=box.drop(box.tail(1).index), palette=\"Set2\", ax=ax[1])\n",
    "ax[1].set_xticks(np.arange(1,11,1))\n",
    "ax[1].set_xlabel('K-th Fold')"
   ]
  },
  {
   "cell_type": "markdown",
   "metadata": {
    "id": "GhKHqNShGLLb"
   },
   "source": [
    "The box and line plots above show the distributions and the changes of the scores for each model. The decision tree model as well as Linear Regression shows a good performance in this analysis. KNN did not show a significant difference in their performance."
   ]
  }
 ],
 "metadata": {
  "colab": {
   "authorship_tag": "ABX9TyN+GPQKwvzy4/ZH0ZizuFJo",
   "provenance": []
  },
  "kernelspec": {
   "display_name": "Python 3 (ipykernel)",
   "language": "python",
   "name": "python3"
  },
  "language_info": {
   "codemirror_mode": {
    "name": "ipython",
    "version": 3
   },
   "file_extension": ".py",
   "mimetype": "text/x-python",
   "name": "python",
   "nbconvert_exporter": "python",
   "pygments_lexer": "ipython3",
   "version": "3.10.9"
  }
 },
 "nbformat": 4,
 "nbformat_minor": 1
}
